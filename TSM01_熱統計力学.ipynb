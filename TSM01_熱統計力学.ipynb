{
  "nbformat": 4,
  "nbformat_minor": 0,
  "metadata": {
    "colab": {
      "name": "TSM01_熱統計力学.ipynb",
      "provenance": [],
      "toc_visible": true,
      "collapsed_sections": [],
      "include_colab_link": true
    },
    "kernelspec": {
      "name": "python3",
      "display_name": "Python 3"
    },
    "language_info": {
      "name": "python"
    }
  },
  "cells": [
    {
      "cell_type": "markdown",
      "metadata": {
        "id": "view-in-github",
        "colab_type": "text"
      },
      "source": [
        "<a href=\"https://colab.research.google.com/github/kzhkAKT/ThermalStatisticalMecanics/blob/draft/TSM01_%E7%86%B1%E7%B5%B1%E8%A8%88%E5%8A%9B%E5%AD%A6.ipynb\" target=\"_parent\"><img src=\"https://colab.research.google.com/assets/colab-badge.svg\" alt=\"Open In Colab\"/></a>"
      ]
    },
    {
      "cell_type": "markdown",
      "source": [
        "[教科書](https://www.shokabo.co.jp/mybooks/ISBN978-4-7853-2060-7.htm)"
      ],
      "metadata": {
        "id": "ePGRZD7Dl93H"
      }
    },
    {
      "cell_type": "markdown",
      "source": [
        "# 熱力学第一法則"
      ],
      "metadata": {
        "id": "QSfqrbanlthC"
      }
    },
    {
      "cell_type": "markdown",
      "source": [
        "## 温度と熱"
      ],
      "metadata": {
        "id": "CNlxIAt3lyOf"
      }
    },
    {
      "cell_type": "markdown",
      "source": [
        "- [absolute temperature](https://isaacphysics.org/concepts/cp_abs_temperature?stage=all)\n",
        "- [Mechanical equivalent of heat](https://en.wikipedia.org/wiki/Mechanical_equivalent_of_heat): $W=J\\ Q$, [Joule](https://en.wikipedia.org/wiki/Joule) ~ [Calori](https://en.wikipedia.org/wiki/Calori)"
      ],
      "metadata": {
        "id": "T940ayPgmcP-"
      }
    },
    {
      "cell_type": "markdown",
      "source": [
        "### 熱容量と比熱\n"
      ],
      "metadata": {
        "id": "p1ywS8B7nQah"
      }
    },
    {
      "cell_type": "markdown",
      "source": [
        "- [Sensible heat](https://en.wikipedia.org/wiki/Sensible_heat)\n",
        "- [Latent heat](https://en.wikipedia.org/wiki/Latent_heat)\n",
        "\n",
        "![https://commons.wikimedia.org/wiki/File:Water_temperature_vs_heat_added.svg](https://upload.wikimedia.org/wikipedia/commons/thumb/f/fe/Water_temperature_vs_heat_added.svg/600px-Water_temperature_vs_heat_added.svg.png)\n",
        "\n",
        "ref: https://commons.wikimedia.org/wiki/File:Water_temperature_vs_heat_added.svg"
      ],
      "metadata": {
        "id": "LiCiOwkrul1q"
      }
    },
    {
      "cell_type": "markdown",
      "source": [
        "[Sensible heat](https://en.wikipedia.org/wiki/Sensible_heat)\n",
        "- $Q = m\\ c \\ t$, [Specific heat capacity](https://en.wikipedia.org/wiki/Specific_heat_capacity)\n",
        "  - $C = m c$, [Heat capacity](https://en.wikipedia.org/wiki/Heat_capacity)\n",
        "\n",
        "- $c_m = M c (= C)$, [Molar heat capacity](https://en.wikipedia.org/wiki/Molar_heat_capacity)\n"
      ],
      "metadata": {
        "id": "knC6Of52nwd5"
      }
    },
    {
      "cell_type": "markdown",
      "source": [
        "### 融解熱と気化熱\n",
        "\n",
        "[Latent heat](https://en.wikipedia.org/wiki/Latent_heat), $\\quad L=\\frac{Q}{m}; Q = m L$\n",
        "- [Enthalpy of fusion](https://en.wikipedia.org/wiki/Enthalpy_of_fusion)\n",
        "- [Enthalpy of vaporization](https://en.wikipedia.org/wiki/Enthalpy_of_vaporization)"
      ],
      "metadata": {
        "id": "xCET3IQZJKTl"
      }
    },
    {
      "cell_type": "markdown",
      "source": [
        "## 状態量と状態方程式"
      ],
      "metadata": {
        "id": "SgS4eK67l1bG"
      }
    },
    {
      "cell_type": "markdown",
      "source": [
        "- [Thermal reservoir](https://en.wikipedia.org/wiki/Thermal_reservoir)\n",
        "- [State function](https://en.wikipedia.org/wiki/State_function)\n",
        "  - [Intensive](https://en.wikipedia.org/wiki/Intensive_and_extensive_properties#Intensive_properties) and [extensive properties](https://en.wikipedia.org/wiki/Intensive_and_extensive_properties#Extensive_properties) "
      ],
      "metadata": {
        "id": "Al0I41AiKA_-"
      }
    },
    {
      "cell_type": "markdown",
      "source": [
        "### 状態方程式の例"
      ],
      "metadata": {
        "id": "8Y3Nhcw2LF1R"
      }
    },
    {
      "cell_type": "markdown",
      "source": [
        "- $i$:ideal\n",
        "- $r$:real\n",
        "\n",
        "1.   $P_i V_i = n R T$\n",
        "2.   $\\left( P_r + a\\left( \\frac{n}{V}\\right)^2 \\right) (V_r - n b) = n R T$\n",
        "  *   $P_i = P_r + a \\left( \\frac{n}{V}\\right) \\left( \\frac{n}{V}\\right)$  : [collision](https://en.wikipedia.org/wiki/Collision)\n",
        "  *   $V_i + n b  = V_r$: volume change\n",
        "\n",
        "\n",
        "\n"
      ],
      "metadata": {
        "id": "GY-Hbg9_LKfM"
      }
    },
    {
      "cell_type": "markdown",
      "source": [
        "### 等温線"
      ],
      "metadata": {
        "id": "nU2BhkpiMtOq"
      }
    },
    {
      "cell_type": "code",
      "source": [
        "#@title Van der Waals equation\n",
        "%matplotlib inline\n",
        "%config InlineBackend.figure_format = 'svg'\n",
        "# https://scipython.com/blog/the-maxwell-construction/\n",
        "import numpy as np\n",
        "import matplotlib.pyplot as plt\n",
        "from scipy.integrate import quad\n",
        "from scipy.optimize import newton\n",
        "from scipy.signal import argrelextrema\n",
        "\n",
        "palette = iter(['#9b59b6', '#4c72b0', '#55a868', '#c44e52', '#dbc256'])\n",
        "\n",
        "# Critical pressure, volume and temperature\n",
        "# These values are for the van der Waals equation of state for CO2:\n",
        "# (p - a/V^2)(V-b) = RT. Units: p is in Pa, Vc in m3/mol and T in K.\n",
        "pc = 7.404e6\n",
        "Vc = 1.28e-4\n",
        "Tc = 304\n",
        "\n",
        "def vdw(Tr, Vr):\n",
        "    \"\"\"Van der Waals equation of state.\n",
        "\n",
        "    Return the reduced pressure from the reduced temperature and volume.\n",
        "\n",
        "    \"\"\"\n",
        "\n",
        "    pr = 8*Tr/(3*Vr-1) - 3/Vr**2\n",
        "    return pr\n",
        "\n",
        "\n",
        "def vdw_maxwell(Tr, Vr):\n",
        "    \"\"\"Van der Waals equation of state with Maxwell construction.\n",
        "\n",
        "    Return the reduced pressure from the reduced temperature and volume,\n",
        "    applying the Maxwell construction correction to the unphysical region\n",
        "    if necessary.\n",
        "\n",
        "    \"\"\"\n",
        "\n",
        "    pr = vdw(Tr, Vr)\n",
        "    if Tr >= 1:\n",
        "        # No unphysical region above the critical temperature.\n",
        "        return pr\n",
        "\n",
        "    if min(pr) < 0:\n",
        "         raise ValueError('Negative pressure results from van der Waals'\n",
        "                         ' equation of state with Tr = {} K.'.format(Tr))\n",
        "\n",
        "    # Initial guess for the position of the Maxwell construction line:\n",
        "    # the volume corresponding to the mean pressure between the minimum and\n",
        "    # maximum in reduced pressure, pr.\n",
        "    iprmin = argrelextrema(pr, np.less)\n",
        "    iprmax = argrelextrema(pr, np.greater)\n",
        "    Vr0 = np.mean([Vr[iprmin], Vr[iprmax]])\n",
        "\n",
        "    def get_Vlims(pr0):\n",
        "        \"\"\"Solve the inverted van der Waals equation for reduced volume.\n",
        "\n",
        "        Return the lowest and highest reduced volumes such that the reduced\n",
        "        pressure is pr0. It only makes sense to call this function for\n",
        "        T<Tc, ie below the critical temperature where there are three roots.\n",
        "\n",
        "        \"\"\"\n",
        "\n",
        "        eos = np.poly1d( (3*pr0, -(pr0+8*Tr), 9, -3) )\n",
        "        roots = eos.r\n",
        "        roots.sort()\n",
        "        Vrmin, _, Vrmax = roots\n",
        "        return Vrmin, Vrmax\n",
        "\n",
        "    def get_area_difference(Vr0):\n",
        "        \"\"\"Return the difference in areas of the van der Waals loops.\n",
        "\n",
        "        Return the difference between the areas of the loops from Vr0 to Vrmax\n",
        "        and from Vrmin to Vr0 where the reduced pressure from the van der Waals\n",
        "        equation is the same at Vrmin, Vr0 and Vrmax. This difference is zero\n",
        "        when the straight line joining Vrmin and Vrmax at pr0 is the Maxwell\n",
        "        construction.\n",
        "\n",
        "        \"\"\"\n",
        "\n",
        "        pr0 = vdw(Tr, Vr0)\n",
        "        Vrmin, Vrmax = get_Vlims(pr0)\n",
        "        return quad(lambda vr: vdw(Tr, vr) - pr0, Vrmin, Vrmax)[0]\n",
        "\n",
        "    # Root finding by Newton's method determines Vr0 corresponding to\n",
        "    # equal loop areas for the Maxwell construction.\n",
        "    Vr0 = newton(get_area_difference, Vr0)\n",
        "    pr0 = vdw(Tr, Vr0)\n",
        "    Vrmin, Vrmax = get_Vlims(pr0)\n",
        "\n",
        "    # Set the pressure in the Maxwell construction region to constant pr0.\n",
        "    pr[(Vr >= Vrmin) & (Vr <= Vrmax)] = pr0\n",
        "    return pr\n",
        "\n",
        "Vr = np.linspace(0.5, 3, 500)\n",
        "\n",
        "def plot_pV(T):\n",
        "    Tr = T / Tc\n",
        "    c = next(palette)\n",
        "    ax.plot(Vr, vdw(Tr, Vr), lw=2, alpha=0.3, color=c)\n",
        "    ax.plot(Vr, vdw_maxwell(Tr, Vr), lw=2, color=c, label='{:.2f}'.format(Tr))\n",
        "\n",
        "fig, ax = plt.subplots()\n",
        "\n",
        "for T in range(270, 320, 10):\n",
        "    plot_pV(T)\n",
        "\n",
        "ax.set_xlim(0.4, 3)\n",
        "ax.set_xlabel('Reduced volume')\n",
        "ax.set_ylim(0, 1.6)\n",
        "ax.set_ylabel('Reduced pressure')\n",
        "ax.legend(title='Reduced temperature')\n",
        "\n",
        "plt.show()"
      ],
      "metadata": {
        "colab": {
          "base_uri": "https://localhost:8080/",
          "height": 375
        },
        "cellView": "form",
        "id": "-QLqT85bNQtV",
        "outputId": "af558392-b2a6-43e2-fb5a-ae8cc80d397a"
      },
      "execution_count": null,
      "outputs": [
        {
          "output_type": "display_data",
          "data": {
            "text/plain": [
              "<Figure size 432x288 with 1 Axes>"
            ],
            "image/svg+xml": "<?xml version=\"1.0\" encoding=\"utf-8\" standalone=\"no\"?>\n<!DOCTYPE svg PUBLIC \"-//W3C//DTD SVG 1.1//EN\"\n  \"http://www.w3.org/Graphics/SVG/1.1/DTD/svg11.dtd\">\n<!-- Created with matplotlib (https://matplotlib.org/) -->\n<svg height=\"265.995469pt\" version=\"1.1\" viewBox=\"0 0 393.732813 265.995469\" width=\"393.732813pt\" xmlns=\"http://www.w3.org/2000/svg\" xmlns:xlink=\"http://www.w3.org/1999/xlink\">\n <defs>\n  <style type=\"text/css\">\n*{stroke-linecap:butt;stroke-linejoin:round;}\n  </style>\n </defs>\n <g id=\"figure_1\">\n  <g id=\"patch_1\">\n   <path d=\"M 0 265.995469 \nL 393.732813 265.995469 \nL 393.732813 0 \nL 0 0 \nz\n\" style=\"fill:none;\"/>\n  </g>\n  <g id=\"axes_1\">\n   <g id=\"patch_2\">\n    <path d=\"M 43.78125 228.439219 \nL 378.58125 228.439219 \nL 378.58125 10.999219 \nL 43.78125 10.999219 \nz\n\" style=\"fill:#ffffff;\"/>\n   </g>\n   <g id=\"matplotlib.axis_1\">\n    <g id=\"xtick_1\">\n     <g id=\"line2d_1\">\n      <defs>\n       <path d=\"M 0 0 \nL 0 3.5 \n\" id=\"mb146f984b1\" style=\"stroke:#000000;stroke-width:0.8;\"/>\n      </defs>\n      <g>\n       <use style=\"stroke:#000000;stroke-width:0.8;\" x=\"56.658173\" xlink:href=\"#mb146f984b1\" y=\"228.439219\"/>\n      </g>\n     </g>\n     <g id=\"text_1\">\n      <!-- 0.5 -->\n      <defs>\n       <path d=\"M 31.78125 66.40625 \nQ 24.171875 66.40625 20.328125 58.90625 \nQ 16.5 51.421875 16.5 36.375 \nQ 16.5 21.390625 20.328125 13.890625 \nQ 24.171875 6.390625 31.78125 6.390625 \nQ 39.453125 6.390625 43.28125 13.890625 \nQ 47.125 21.390625 47.125 36.375 \nQ 47.125 51.421875 43.28125 58.90625 \nQ 39.453125 66.40625 31.78125 66.40625 \nz\nM 31.78125 74.21875 \nQ 44.046875 74.21875 50.515625 64.515625 \nQ 56.984375 54.828125 56.984375 36.375 \nQ 56.984375 17.96875 50.515625 8.265625 \nQ 44.046875 -1.421875 31.78125 -1.421875 \nQ 19.53125 -1.421875 13.0625 8.265625 \nQ 6.59375 17.96875 6.59375 36.375 \nQ 6.59375 54.828125 13.0625 64.515625 \nQ 19.53125 74.21875 31.78125 74.21875 \nz\n\" id=\"DejaVuSans-48\"/>\n       <path d=\"M 10.6875 12.40625 \nL 21 12.40625 \nL 21 0 \nL 10.6875 0 \nz\n\" id=\"DejaVuSans-46\"/>\n       <path d=\"M 10.796875 72.90625 \nL 49.515625 72.90625 \nL 49.515625 64.59375 \nL 19.828125 64.59375 \nL 19.828125 46.734375 \nQ 21.96875 47.46875 24.109375 47.828125 \nQ 26.265625 48.1875 28.421875 48.1875 \nQ 40.625 48.1875 47.75 41.5 \nQ 54.890625 34.8125 54.890625 23.390625 \nQ 54.890625 11.625 47.5625 5.09375 \nQ 40.234375 -1.421875 26.90625 -1.421875 \nQ 22.3125 -1.421875 17.546875 -0.640625 \nQ 12.796875 0.140625 7.71875 1.703125 \nL 7.71875 11.625 \nQ 12.109375 9.234375 16.796875 8.0625 \nQ 21.484375 6.890625 26.703125 6.890625 \nQ 35.15625 6.890625 40.078125 11.328125 \nQ 45.015625 15.765625 45.015625 23.390625 \nQ 45.015625 31 40.078125 35.4375 \nQ 35.15625 39.890625 26.703125 39.890625 \nQ 22.75 39.890625 18.8125 39.015625 \nQ 14.890625 38.140625 10.796875 36.28125 \nz\n\" id=\"DejaVuSans-53\"/>\n      </defs>\n      <g transform=\"translate(48.706611 243.037656)scale(0.1 -0.1)\">\n       <use xlink:href=\"#DejaVuSans-48\"/>\n       <use x=\"63.623047\" xlink:href=\"#DejaVuSans-46\"/>\n       <use x=\"95.410156\" xlink:href=\"#DejaVuSans-53\"/>\n      </g>\n     </g>\n    </g>\n    <g id=\"xtick_2\">\n     <g id=\"line2d_2\">\n      <g>\n       <use style=\"stroke:#000000;stroke-width:0.8;\" x=\"121.042788\" xlink:href=\"#mb146f984b1\" y=\"228.439219\"/>\n      </g>\n     </g>\n     <g id=\"text_2\">\n      <!-- 1.0 -->\n      <defs>\n       <path d=\"M 12.40625 8.296875 \nL 28.515625 8.296875 \nL 28.515625 63.921875 \nL 10.984375 60.40625 \nL 10.984375 69.390625 \nL 28.421875 72.90625 \nL 38.28125 72.90625 \nL 38.28125 8.296875 \nL 54.390625 8.296875 \nL 54.390625 0 \nL 12.40625 0 \nz\n\" id=\"DejaVuSans-49\"/>\n      </defs>\n      <g transform=\"translate(113.091226 243.037656)scale(0.1 -0.1)\">\n       <use xlink:href=\"#DejaVuSans-49\"/>\n       <use x=\"63.623047\" xlink:href=\"#DejaVuSans-46\"/>\n       <use x=\"95.410156\" xlink:href=\"#DejaVuSans-48\"/>\n      </g>\n     </g>\n    </g>\n    <g id=\"xtick_3\">\n     <g id=\"line2d_3\">\n      <g>\n       <use style=\"stroke:#000000;stroke-width:0.8;\" x=\"185.427404\" xlink:href=\"#mb146f984b1\" y=\"228.439219\"/>\n      </g>\n     </g>\n     <g id=\"text_3\">\n      <!-- 1.5 -->\n      <g transform=\"translate(177.475841 243.037656)scale(0.1 -0.1)\">\n       <use xlink:href=\"#DejaVuSans-49\"/>\n       <use x=\"63.623047\" xlink:href=\"#DejaVuSans-46\"/>\n       <use x=\"95.410156\" xlink:href=\"#DejaVuSans-53\"/>\n      </g>\n     </g>\n    </g>\n    <g id=\"xtick_4\">\n     <g id=\"line2d_4\">\n      <g>\n       <use style=\"stroke:#000000;stroke-width:0.8;\" x=\"249.812019\" xlink:href=\"#mb146f984b1\" y=\"228.439219\"/>\n      </g>\n     </g>\n     <g id=\"text_4\">\n      <!-- 2.0 -->\n      <defs>\n       <path d=\"M 19.1875 8.296875 \nL 53.609375 8.296875 \nL 53.609375 0 \nL 7.328125 0 \nL 7.328125 8.296875 \nQ 12.9375 14.109375 22.625 23.890625 \nQ 32.328125 33.6875 34.8125 36.53125 \nQ 39.546875 41.84375 41.421875 45.53125 \nQ 43.3125 49.21875 43.3125 52.78125 \nQ 43.3125 58.59375 39.234375 62.25 \nQ 35.15625 65.921875 28.609375 65.921875 \nQ 23.96875 65.921875 18.8125 64.3125 \nQ 13.671875 62.703125 7.8125 59.421875 \nL 7.8125 69.390625 \nQ 13.765625 71.78125 18.9375 73 \nQ 24.125 74.21875 28.421875 74.21875 \nQ 39.75 74.21875 46.484375 68.546875 \nQ 53.21875 62.890625 53.21875 53.421875 \nQ 53.21875 48.921875 51.53125 44.890625 \nQ 49.859375 40.875 45.40625 35.40625 \nQ 44.1875 33.984375 37.640625 27.21875 \nQ 31.109375 20.453125 19.1875 8.296875 \nz\n\" id=\"DejaVuSans-50\"/>\n      </defs>\n      <g transform=\"translate(241.860457 243.037656)scale(0.1 -0.1)\">\n       <use xlink:href=\"#DejaVuSans-50\"/>\n       <use x=\"63.623047\" xlink:href=\"#DejaVuSans-46\"/>\n       <use x=\"95.410156\" xlink:href=\"#DejaVuSans-48\"/>\n      </g>\n     </g>\n    </g>\n    <g id=\"xtick_5\">\n     <g id=\"line2d_5\">\n      <g>\n       <use style=\"stroke:#000000;stroke-width:0.8;\" x=\"314.196635\" xlink:href=\"#mb146f984b1\" y=\"228.439219\"/>\n      </g>\n     </g>\n     <g id=\"text_5\">\n      <!-- 2.5 -->\n      <g transform=\"translate(306.245072 243.037656)scale(0.1 -0.1)\">\n       <use xlink:href=\"#DejaVuSans-50\"/>\n       <use x=\"63.623047\" xlink:href=\"#DejaVuSans-46\"/>\n       <use x=\"95.410156\" xlink:href=\"#DejaVuSans-53\"/>\n      </g>\n     </g>\n    </g>\n    <g id=\"xtick_6\">\n     <g id=\"line2d_6\">\n      <g>\n       <use style=\"stroke:#000000;stroke-width:0.8;\" x=\"378.58125\" xlink:href=\"#mb146f984b1\" y=\"228.439219\"/>\n      </g>\n     </g>\n     <g id=\"text_6\">\n      <!-- 3.0 -->\n      <defs>\n       <path d=\"M 40.578125 39.3125 \nQ 47.65625 37.796875 51.625 33 \nQ 55.609375 28.21875 55.609375 21.1875 \nQ 55.609375 10.40625 48.1875 4.484375 \nQ 40.765625 -1.421875 27.09375 -1.421875 \nQ 22.515625 -1.421875 17.65625 -0.515625 \nQ 12.796875 0.390625 7.625 2.203125 \nL 7.625 11.71875 \nQ 11.71875 9.328125 16.59375 8.109375 \nQ 21.484375 6.890625 26.8125 6.890625 \nQ 36.078125 6.890625 40.9375 10.546875 \nQ 45.796875 14.203125 45.796875 21.1875 \nQ 45.796875 27.640625 41.28125 31.265625 \nQ 36.765625 34.90625 28.71875 34.90625 \nL 20.21875 34.90625 \nL 20.21875 43.015625 \nL 29.109375 43.015625 \nQ 36.375 43.015625 40.234375 45.921875 \nQ 44.09375 48.828125 44.09375 54.296875 \nQ 44.09375 59.90625 40.109375 62.90625 \nQ 36.140625 65.921875 28.71875 65.921875 \nQ 24.65625 65.921875 20.015625 65.03125 \nQ 15.375 64.15625 9.8125 62.3125 \nL 9.8125 71.09375 \nQ 15.4375 72.65625 20.34375 73.4375 \nQ 25.25 74.21875 29.59375 74.21875 \nQ 40.828125 74.21875 47.359375 69.109375 \nQ 53.90625 64.015625 53.90625 55.328125 \nQ 53.90625 49.265625 50.4375 45.09375 \nQ 46.96875 40.921875 40.578125 39.3125 \nz\n\" id=\"DejaVuSans-51\"/>\n      </defs>\n      <g transform=\"translate(370.629687 243.037656)scale(0.1 -0.1)\">\n       <use xlink:href=\"#DejaVuSans-51\"/>\n       <use x=\"63.623047\" xlink:href=\"#DejaVuSans-46\"/>\n       <use x=\"95.410156\" xlink:href=\"#DejaVuSans-48\"/>\n      </g>\n     </g>\n    </g>\n    <g id=\"text_7\">\n     <!-- Reduced volume -->\n     <defs>\n      <path d=\"M 44.390625 34.1875 \nQ 47.5625 33.109375 50.5625 29.59375 \nQ 53.5625 26.078125 56.59375 19.921875 \nL 66.609375 0 \nL 56 0 \nL 46.6875 18.703125 \nQ 43.0625 26.03125 39.671875 28.421875 \nQ 36.28125 30.8125 30.421875 30.8125 \nL 19.671875 30.8125 \nL 19.671875 0 \nL 9.8125 0 \nL 9.8125 72.90625 \nL 32.078125 72.90625 \nQ 44.578125 72.90625 50.734375 67.671875 \nQ 56.890625 62.453125 56.890625 51.90625 \nQ 56.890625 45.015625 53.6875 40.46875 \nQ 50.484375 35.9375 44.390625 34.1875 \nz\nM 19.671875 64.796875 \nL 19.671875 38.921875 \nL 32.078125 38.921875 \nQ 39.203125 38.921875 42.84375 42.21875 \nQ 46.484375 45.515625 46.484375 51.90625 \nQ 46.484375 58.296875 42.84375 61.546875 \nQ 39.203125 64.796875 32.078125 64.796875 \nz\n\" id=\"DejaVuSans-82\"/>\n      <path d=\"M 56.203125 29.59375 \nL 56.203125 25.203125 \nL 14.890625 25.203125 \nQ 15.484375 15.921875 20.484375 11.0625 \nQ 25.484375 6.203125 34.421875 6.203125 \nQ 39.59375 6.203125 44.453125 7.46875 \nQ 49.3125 8.734375 54.109375 11.28125 \nL 54.109375 2.78125 \nQ 49.265625 0.734375 44.1875 -0.34375 \nQ 39.109375 -1.421875 33.890625 -1.421875 \nQ 20.796875 -1.421875 13.15625 6.1875 \nQ 5.515625 13.8125 5.515625 26.8125 \nQ 5.515625 40.234375 12.765625 48.109375 \nQ 20.015625 56 32.328125 56 \nQ 43.359375 56 49.78125 48.890625 \nQ 56.203125 41.796875 56.203125 29.59375 \nz\nM 47.21875 32.234375 \nQ 47.125 39.59375 43.09375 43.984375 \nQ 39.0625 48.390625 32.421875 48.390625 \nQ 24.90625 48.390625 20.390625 44.140625 \nQ 15.875 39.890625 15.1875 32.171875 \nz\n\" id=\"DejaVuSans-101\"/>\n      <path d=\"M 45.40625 46.390625 \nL 45.40625 75.984375 \nL 54.390625 75.984375 \nL 54.390625 0 \nL 45.40625 0 \nL 45.40625 8.203125 \nQ 42.578125 3.328125 38.25 0.953125 \nQ 33.9375 -1.421875 27.875 -1.421875 \nQ 17.96875 -1.421875 11.734375 6.484375 \nQ 5.515625 14.40625 5.515625 27.296875 \nQ 5.515625 40.1875 11.734375 48.09375 \nQ 17.96875 56 27.875 56 \nQ 33.9375 56 38.25 53.625 \nQ 42.578125 51.265625 45.40625 46.390625 \nz\nM 14.796875 27.296875 \nQ 14.796875 17.390625 18.875 11.75 \nQ 22.953125 6.109375 30.078125 6.109375 \nQ 37.203125 6.109375 41.296875 11.75 \nQ 45.40625 17.390625 45.40625 27.296875 \nQ 45.40625 37.203125 41.296875 42.84375 \nQ 37.203125 48.484375 30.078125 48.484375 \nQ 22.953125 48.484375 18.875 42.84375 \nQ 14.796875 37.203125 14.796875 27.296875 \nz\n\" id=\"DejaVuSans-100\"/>\n      <path d=\"M 8.5 21.578125 \nL 8.5 54.6875 \nL 17.484375 54.6875 \nL 17.484375 21.921875 \nQ 17.484375 14.15625 20.5 10.265625 \nQ 23.53125 6.390625 29.59375 6.390625 \nQ 36.859375 6.390625 41.078125 11.03125 \nQ 45.3125 15.671875 45.3125 23.6875 \nL 45.3125 54.6875 \nL 54.296875 54.6875 \nL 54.296875 0 \nL 45.3125 0 \nL 45.3125 8.40625 \nQ 42.046875 3.421875 37.71875 1 \nQ 33.40625 -1.421875 27.6875 -1.421875 \nQ 18.265625 -1.421875 13.375 4.4375 \nQ 8.5 10.296875 8.5 21.578125 \nz\nM 31.109375 56 \nz\n\" id=\"DejaVuSans-117\"/>\n      <path d=\"M 48.78125 52.59375 \nL 48.78125 44.1875 \nQ 44.96875 46.296875 41.140625 47.34375 \nQ 37.3125 48.390625 33.40625 48.390625 \nQ 24.65625 48.390625 19.8125 42.84375 \nQ 14.984375 37.3125 14.984375 27.296875 \nQ 14.984375 17.28125 19.8125 11.734375 \nQ 24.65625 6.203125 33.40625 6.203125 \nQ 37.3125 6.203125 41.140625 7.25 \nQ 44.96875 8.296875 48.78125 10.40625 \nL 48.78125 2.09375 \nQ 45.015625 0.34375 40.984375 -0.53125 \nQ 36.96875 -1.421875 32.421875 -1.421875 \nQ 20.0625 -1.421875 12.78125 6.34375 \nQ 5.515625 14.109375 5.515625 27.296875 \nQ 5.515625 40.671875 12.859375 48.328125 \nQ 20.21875 56 33.015625 56 \nQ 37.15625 56 41.109375 55.140625 \nQ 45.0625 54.296875 48.78125 52.59375 \nz\n\" id=\"DejaVuSans-99\"/>\n      <path id=\"DejaVuSans-32\"/>\n      <path d=\"M 2.984375 54.6875 \nL 12.5 54.6875 \nL 29.59375 8.796875 \nL 46.6875 54.6875 \nL 56.203125 54.6875 \nL 35.6875 0 \nL 23.484375 0 \nz\n\" id=\"DejaVuSans-118\"/>\n      <path d=\"M 30.609375 48.390625 \nQ 23.390625 48.390625 19.1875 42.75 \nQ 14.984375 37.109375 14.984375 27.296875 \nQ 14.984375 17.484375 19.15625 11.84375 \nQ 23.34375 6.203125 30.609375 6.203125 \nQ 37.796875 6.203125 41.984375 11.859375 \nQ 46.1875 17.53125 46.1875 27.296875 \nQ 46.1875 37.015625 41.984375 42.703125 \nQ 37.796875 48.390625 30.609375 48.390625 \nz\nM 30.609375 56 \nQ 42.328125 56 49.015625 48.375 \nQ 55.71875 40.765625 55.71875 27.296875 \nQ 55.71875 13.875 49.015625 6.21875 \nQ 42.328125 -1.421875 30.609375 -1.421875 \nQ 18.84375 -1.421875 12.171875 6.21875 \nQ 5.515625 13.875 5.515625 27.296875 \nQ 5.515625 40.765625 12.171875 48.375 \nQ 18.84375 56 30.609375 56 \nz\n\" id=\"DejaVuSans-111\"/>\n      <path d=\"M 9.421875 75.984375 \nL 18.40625 75.984375 \nL 18.40625 0 \nL 9.421875 0 \nz\n\" id=\"DejaVuSans-108\"/>\n      <path d=\"M 52 44.1875 \nQ 55.375 50.25 60.0625 53.125 \nQ 64.75 56 71.09375 56 \nQ 79.640625 56 84.28125 50.015625 \nQ 88.921875 44.046875 88.921875 33.015625 \nL 88.921875 0 \nL 79.890625 0 \nL 79.890625 32.71875 \nQ 79.890625 40.578125 77.09375 44.375 \nQ 74.3125 48.1875 68.609375 48.1875 \nQ 61.625 48.1875 57.5625 43.546875 \nQ 53.515625 38.921875 53.515625 30.90625 \nL 53.515625 0 \nL 44.484375 0 \nL 44.484375 32.71875 \nQ 44.484375 40.625 41.703125 44.40625 \nQ 38.921875 48.1875 33.109375 48.1875 \nQ 26.21875 48.1875 22.15625 43.53125 \nQ 18.109375 38.875 18.109375 30.90625 \nL 18.109375 0 \nL 9.078125 0 \nL 9.078125 54.6875 \nL 18.109375 54.6875 \nL 18.109375 46.1875 \nQ 21.1875 51.21875 25.484375 53.609375 \nQ 29.78125 56 35.6875 56 \nQ 41.65625 56 45.828125 52.96875 \nQ 50 49.953125 52 44.1875 \nz\n\" id=\"DejaVuSans-109\"/>\n     </defs>\n     <g transform=\"translate(169.4 256.715781)scale(0.1 -0.1)\">\n      <use xlink:href=\"#DejaVuSans-82\"/>\n      <use x=\"64.982422\" xlink:href=\"#DejaVuSans-101\"/>\n      <use x=\"126.505859\" xlink:href=\"#DejaVuSans-100\"/>\n      <use x=\"189.982422\" xlink:href=\"#DejaVuSans-117\"/>\n      <use x=\"253.361328\" xlink:href=\"#DejaVuSans-99\"/>\n      <use x=\"308.341797\" xlink:href=\"#DejaVuSans-101\"/>\n      <use x=\"369.865234\" xlink:href=\"#DejaVuSans-100\"/>\n      <use x=\"433.341797\" xlink:href=\"#DejaVuSans-32\"/>\n      <use x=\"465.128906\" xlink:href=\"#DejaVuSans-118\"/>\n      <use x=\"524.308594\" xlink:href=\"#DejaVuSans-111\"/>\n      <use x=\"585.490234\" xlink:href=\"#DejaVuSans-108\"/>\n      <use x=\"613.273438\" xlink:href=\"#DejaVuSans-117\"/>\n      <use x=\"676.652344\" xlink:href=\"#DejaVuSans-109\"/>\n      <use x=\"774.064453\" xlink:href=\"#DejaVuSans-101\"/>\n     </g>\n    </g>\n   </g>\n   <g id=\"matplotlib.axis_2\">\n    <g id=\"ytick_1\">\n     <g id=\"line2d_7\">\n      <defs>\n       <path d=\"M 0 0 \nL -3.5 0 \n\" id=\"m7246f19dee\" style=\"stroke:#000000;stroke-width:0.8;\"/>\n      </defs>\n      <g>\n       <use style=\"stroke:#000000;stroke-width:0.8;\" x=\"43.78125\" xlink:href=\"#m7246f19dee\" y=\"228.439219\"/>\n      </g>\n     </g>\n     <g id=\"text_8\">\n      <!-- 0.0 -->\n      <g transform=\"translate(20.878125 232.238437)scale(0.1 -0.1)\">\n       <use xlink:href=\"#DejaVuSans-48\"/>\n       <use x=\"63.623047\" xlink:href=\"#DejaVuSans-46\"/>\n       <use x=\"95.410156\" xlink:href=\"#DejaVuSans-48\"/>\n      </g>\n     </g>\n    </g>\n    <g id=\"ytick_2\">\n     <g id=\"line2d_8\">\n      <g>\n       <use style=\"stroke:#000000;stroke-width:0.8;\" x=\"43.78125\" xlink:href=\"#m7246f19dee\" y=\"201.259219\"/>\n      </g>\n     </g>\n     <g id=\"text_9\">\n      <!-- 0.2 -->\n      <g transform=\"translate(20.878125 205.058437)scale(0.1 -0.1)\">\n       <use xlink:href=\"#DejaVuSans-48\"/>\n       <use x=\"63.623047\" xlink:href=\"#DejaVuSans-46\"/>\n       <use x=\"95.410156\" xlink:href=\"#DejaVuSans-50\"/>\n      </g>\n     </g>\n    </g>\n    <g id=\"ytick_3\">\n     <g id=\"line2d_9\">\n      <g>\n       <use style=\"stroke:#000000;stroke-width:0.8;\" x=\"43.78125\" xlink:href=\"#m7246f19dee\" y=\"174.079219\"/>\n      </g>\n     </g>\n     <g id=\"text_10\">\n      <!-- 0.4 -->\n      <defs>\n       <path d=\"M 37.796875 64.3125 \nL 12.890625 25.390625 \nL 37.796875 25.390625 \nz\nM 35.203125 72.90625 \nL 47.609375 72.90625 \nL 47.609375 25.390625 \nL 58.015625 25.390625 \nL 58.015625 17.1875 \nL 47.609375 17.1875 \nL 47.609375 0 \nL 37.796875 0 \nL 37.796875 17.1875 \nL 4.890625 17.1875 \nL 4.890625 26.703125 \nz\n\" id=\"DejaVuSans-52\"/>\n      </defs>\n      <g transform=\"translate(20.878125 177.878437)scale(0.1 -0.1)\">\n       <use xlink:href=\"#DejaVuSans-48\"/>\n       <use x=\"63.623047\" xlink:href=\"#DejaVuSans-46\"/>\n       <use x=\"95.410156\" xlink:href=\"#DejaVuSans-52\"/>\n      </g>\n     </g>\n    </g>\n    <g id=\"ytick_4\">\n     <g id=\"line2d_10\">\n      <g>\n       <use style=\"stroke:#000000;stroke-width:0.8;\" x=\"43.78125\" xlink:href=\"#m7246f19dee\" y=\"146.899219\"/>\n      </g>\n     </g>\n     <g id=\"text_11\">\n      <!-- 0.6 -->\n      <defs>\n       <path d=\"M 33.015625 40.375 \nQ 26.375 40.375 22.484375 35.828125 \nQ 18.609375 31.296875 18.609375 23.390625 \nQ 18.609375 15.53125 22.484375 10.953125 \nQ 26.375 6.390625 33.015625 6.390625 \nQ 39.65625 6.390625 43.53125 10.953125 \nQ 47.40625 15.53125 47.40625 23.390625 \nQ 47.40625 31.296875 43.53125 35.828125 \nQ 39.65625 40.375 33.015625 40.375 \nz\nM 52.59375 71.296875 \nL 52.59375 62.3125 \nQ 48.875 64.0625 45.09375 64.984375 \nQ 41.3125 65.921875 37.59375 65.921875 \nQ 27.828125 65.921875 22.671875 59.328125 \nQ 17.53125 52.734375 16.796875 39.40625 \nQ 19.671875 43.65625 24.015625 45.921875 \nQ 28.375 48.1875 33.59375 48.1875 \nQ 44.578125 48.1875 50.953125 41.515625 \nQ 57.328125 34.859375 57.328125 23.390625 \nQ 57.328125 12.15625 50.6875 5.359375 \nQ 44.046875 -1.421875 33.015625 -1.421875 \nQ 20.359375 -1.421875 13.671875 8.265625 \nQ 6.984375 17.96875 6.984375 36.375 \nQ 6.984375 53.65625 15.1875 63.9375 \nQ 23.390625 74.21875 37.203125 74.21875 \nQ 40.921875 74.21875 44.703125 73.484375 \nQ 48.484375 72.75 52.59375 71.296875 \nz\n\" id=\"DejaVuSans-54\"/>\n      </defs>\n      <g transform=\"translate(20.878125 150.698437)scale(0.1 -0.1)\">\n       <use xlink:href=\"#DejaVuSans-48\"/>\n       <use x=\"63.623047\" xlink:href=\"#DejaVuSans-46\"/>\n       <use x=\"95.410156\" xlink:href=\"#DejaVuSans-54\"/>\n      </g>\n     </g>\n    </g>\n    <g id=\"ytick_5\">\n     <g id=\"line2d_11\">\n      <g>\n       <use style=\"stroke:#000000;stroke-width:0.8;\" x=\"43.78125\" xlink:href=\"#m7246f19dee\" y=\"119.719219\"/>\n      </g>\n     </g>\n     <g id=\"text_12\">\n      <!-- 0.8 -->\n      <defs>\n       <path d=\"M 31.78125 34.625 \nQ 24.75 34.625 20.71875 30.859375 \nQ 16.703125 27.09375 16.703125 20.515625 \nQ 16.703125 13.921875 20.71875 10.15625 \nQ 24.75 6.390625 31.78125 6.390625 \nQ 38.8125 6.390625 42.859375 10.171875 \nQ 46.921875 13.96875 46.921875 20.515625 \nQ 46.921875 27.09375 42.890625 30.859375 \nQ 38.875 34.625 31.78125 34.625 \nz\nM 21.921875 38.8125 \nQ 15.578125 40.375 12.03125 44.71875 \nQ 8.5 49.078125 8.5 55.328125 \nQ 8.5 64.0625 14.71875 69.140625 \nQ 20.953125 74.21875 31.78125 74.21875 \nQ 42.671875 74.21875 48.875 69.140625 \nQ 55.078125 64.0625 55.078125 55.328125 \nQ 55.078125 49.078125 51.53125 44.71875 \nQ 48 40.375 41.703125 38.8125 \nQ 48.828125 37.15625 52.796875 32.3125 \nQ 56.78125 27.484375 56.78125 20.515625 \nQ 56.78125 9.90625 50.3125 4.234375 \nQ 43.84375 -1.421875 31.78125 -1.421875 \nQ 19.734375 -1.421875 13.25 4.234375 \nQ 6.78125 9.90625 6.78125 20.515625 \nQ 6.78125 27.484375 10.78125 32.3125 \nQ 14.796875 37.15625 21.921875 38.8125 \nz\nM 18.3125 54.390625 \nQ 18.3125 48.734375 21.84375 45.5625 \nQ 25.390625 42.390625 31.78125 42.390625 \nQ 38.140625 42.390625 41.71875 45.5625 \nQ 45.3125 48.734375 45.3125 54.390625 \nQ 45.3125 60.0625 41.71875 63.234375 \nQ 38.140625 66.40625 31.78125 66.40625 \nQ 25.390625 66.40625 21.84375 63.234375 \nQ 18.3125 60.0625 18.3125 54.390625 \nz\n\" id=\"DejaVuSans-56\"/>\n      </defs>\n      <g transform=\"translate(20.878125 123.518437)scale(0.1 -0.1)\">\n       <use xlink:href=\"#DejaVuSans-48\"/>\n       <use x=\"63.623047\" xlink:href=\"#DejaVuSans-46\"/>\n       <use x=\"95.410156\" xlink:href=\"#DejaVuSans-56\"/>\n      </g>\n     </g>\n    </g>\n    <g id=\"ytick_6\">\n     <g id=\"line2d_12\">\n      <g>\n       <use style=\"stroke:#000000;stroke-width:0.8;\" x=\"43.78125\" xlink:href=\"#m7246f19dee\" y=\"92.539219\"/>\n      </g>\n     </g>\n     <g id=\"text_13\">\n      <!-- 1.0 -->\n      <g transform=\"translate(20.878125 96.338437)scale(0.1 -0.1)\">\n       <use xlink:href=\"#DejaVuSans-49\"/>\n       <use x=\"63.623047\" xlink:href=\"#DejaVuSans-46\"/>\n       <use x=\"95.410156\" xlink:href=\"#DejaVuSans-48\"/>\n      </g>\n     </g>\n    </g>\n    <g id=\"ytick_7\">\n     <g id=\"line2d_13\">\n      <g>\n       <use style=\"stroke:#000000;stroke-width:0.8;\" x=\"43.78125\" xlink:href=\"#m7246f19dee\" y=\"65.359219\"/>\n      </g>\n     </g>\n     <g id=\"text_14\">\n      <!-- 1.2 -->\n      <g transform=\"translate(20.878125 69.158437)scale(0.1 -0.1)\">\n       <use xlink:href=\"#DejaVuSans-49\"/>\n       <use x=\"63.623047\" xlink:href=\"#DejaVuSans-46\"/>\n       <use x=\"95.410156\" xlink:href=\"#DejaVuSans-50\"/>\n      </g>\n     </g>\n    </g>\n    <g id=\"ytick_8\">\n     <g id=\"line2d_14\">\n      <g>\n       <use style=\"stroke:#000000;stroke-width:0.8;\" x=\"43.78125\" xlink:href=\"#m7246f19dee\" y=\"38.179219\"/>\n      </g>\n     </g>\n     <g id=\"text_15\">\n      <!-- 1.4 -->\n      <g transform=\"translate(20.878125 41.978437)scale(0.1 -0.1)\">\n       <use xlink:href=\"#DejaVuSans-49\"/>\n       <use x=\"63.623047\" xlink:href=\"#DejaVuSans-46\"/>\n       <use x=\"95.410156\" xlink:href=\"#DejaVuSans-52\"/>\n      </g>\n     </g>\n    </g>\n    <g id=\"ytick_9\">\n     <g id=\"line2d_15\">\n      <g>\n       <use style=\"stroke:#000000;stroke-width:0.8;\" x=\"43.78125\" xlink:href=\"#m7246f19dee\" y=\"10.999219\"/>\n      </g>\n     </g>\n     <g id=\"text_16\">\n      <!-- 1.6 -->\n      <g transform=\"translate(20.878125 14.798437)scale(0.1 -0.1)\">\n       <use xlink:href=\"#DejaVuSans-49\"/>\n       <use x=\"63.623047\" xlink:href=\"#DejaVuSans-46\"/>\n       <use x=\"95.410156\" xlink:href=\"#DejaVuSans-54\"/>\n      </g>\n     </g>\n    </g>\n    <g id=\"text_17\">\n     <!-- Reduced pressure -->\n     <defs>\n      <path d=\"M 18.109375 8.203125 \nL 18.109375 -20.796875 \nL 9.078125 -20.796875 \nL 9.078125 54.6875 \nL 18.109375 54.6875 \nL 18.109375 46.390625 \nQ 20.953125 51.265625 25.265625 53.625 \nQ 29.59375 56 35.59375 56 \nQ 45.5625 56 51.78125 48.09375 \nQ 58.015625 40.1875 58.015625 27.296875 \nQ 58.015625 14.40625 51.78125 6.484375 \nQ 45.5625 -1.421875 35.59375 -1.421875 \nQ 29.59375 -1.421875 25.265625 0.953125 \nQ 20.953125 3.328125 18.109375 8.203125 \nz\nM 48.6875 27.296875 \nQ 48.6875 37.203125 44.609375 42.84375 \nQ 40.53125 48.484375 33.40625 48.484375 \nQ 26.265625 48.484375 22.1875 42.84375 \nQ 18.109375 37.203125 18.109375 27.296875 \nQ 18.109375 17.390625 22.1875 11.75 \nQ 26.265625 6.109375 33.40625 6.109375 \nQ 40.53125 6.109375 44.609375 11.75 \nQ 48.6875 17.390625 48.6875 27.296875 \nz\n\" id=\"DejaVuSans-112\"/>\n      <path d=\"M 41.109375 46.296875 \nQ 39.59375 47.171875 37.8125 47.578125 \nQ 36.03125 48 33.890625 48 \nQ 26.265625 48 22.1875 43.046875 \nQ 18.109375 38.09375 18.109375 28.8125 \nL 18.109375 0 \nL 9.078125 0 \nL 9.078125 54.6875 \nL 18.109375 54.6875 \nL 18.109375 46.1875 \nQ 20.953125 51.171875 25.484375 53.578125 \nQ 30.03125 56 36.53125 56 \nQ 37.453125 56 38.578125 55.875 \nQ 39.703125 55.765625 41.0625 55.515625 \nz\n\" id=\"DejaVuSans-114\"/>\n      <path d=\"M 44.28125 53.078125 \nL 44.28125 44.578125 \nQ 40.484375 46.53125 36.375 47.5 \nQ 32.28125 48.484375 27.875 48.484375 \nQ 21.1875 48.484375 17.84375 46.4375 \nQ 14.5 44.390625 14.5 40.28125 \nQ 14.5 37.15625 16.890625 35.375 \nQ 19.28125 33.59375 26.515625 31.984375 \nL 29.59375 31.296875 \nQ 39.15625 29.25 43.1875 25.515625 \nQ 47.21875 21.78125 47.21875 15.09375 \nQ 47.21875 7.46875 41.1875 3.015625 \nQ 35.15625 -1.421875 24.609375 -1.421875 \nQ 20.21875 -1.421875 15.453125 -0.5625 \nQ 10.6875 0.296875 5.421875 2 \nL 5.421875 11.28125 \nQ 10.40625 8.6875 15.234375 7.390625 \nQ 20.0625 6.109375 24.8125 6.109375 \nQ 31.15625 6.109375 34.5625 8.28125 \nQ 37.984375 10.453125 37.984375 14.40625 \nQ 37.984375 18.0625 35.515625 20.015625 \nQ 33.0625 21.96875 24.703125 23.78125 \nL 21.578125 24.515625 \nQ 13.234375 26.265625 9.515625 29.90625 \nQ 5.8125 33.546875 5.8125 39.890625 \nQ 5.8125 47.609375 11.28125 51.796875 \nQ 16.75 56 26.8125 56 \nQ 31.78125 56 36.171875 55.265625 \nQ 40.578125 54.546875 44.28125 53.078125 \nz\n\" id=\"DejaVuSans-115\"/>\n     </defs>\n     <g transform=\"translate(14.798438 164.568437)rotate(-90)scale(0.1 -0.1)\">\n      <use xlink:href=\"#DejaVuSans-82\"/>\n      <use x=\"64.982422\" xlink:href=\"#DejaVuSans-101\"/>\n      <use x=\"126.505859\" xlink:href=\"#DejaVuSans-100\"/>\n      <use x=\"189.982422\" xlink:href=\"#DejaVuSans-117\"/>\n      <use x=\"253.361328\" xlink:href=\"#DejaVuSans-99\"/>\n      <use x=\"308.341797\" xlink:href=\"#DejaVuSans-101\"/>\n      <use x=\"369.865234\" xlink:href=\"#DejaVuSans-100\"/>\n      <use x=\"433.341797\" xlink:href=\"#DejaVuSans-32\"/>\n      <use x=\"465.128906\" xlink:href=\"#DejaVuSans-112\"/>\n      <use x=\"528.605469\" xlink:href=\"#DejaVuSans-114\"/>\n      <use x=\"567.46875\" xlink:href=\"#DejaVuSans-101\"/>\n      <use x=\"628.992188\" xlink:href=\"#DejaVuSans-115\"/>\n      <use x=\"681.091797\" xlink:href=\"#DejaVuSans-115\"/>\n      <use x=\"733.191406\" xlink:href=\"#DejaVuSans-117\"/>\n      <use x=\"796.570312\" xlink:href=\"#DejaVuSans-114\"/>\n      <use x=\"835.433594\" xlink:href=\"#DejaVuSans-101\"/>\n     </g>\n    </g>\n   </g>\n   <g id=\"line2d_16\">\n    <path clip-path=\"url(#pf9f9bf4f8e)\" d=\"M 58.772682 -1 \nL 59.883855 28.465963 \nL 61.174128 56.98284 \nL 62.464401 80.606197 \nL 63.754674 100.191176 \nL 65.044947 116.426812 \nL 66.335219 129.872399 \nL 67.625492 140.984943 \nL 68.915765 150.140113 \nL 70.206038 157.648402 \nL 71.496311 163.767703 \nL 72.786584 168.713188 \nL 74.076857 172.665117 \nL 75.367129 175.775068 \nL 76.657402 178.170933 \nL 77.947675 179.960955 \nL 79.237948 181.237 \nL 80.528221 182.077235 \nL 81.818494 182.548322 \nL 83.108767 182.707229 \nL 84.399039 182.602725 \nL 85.689312 182.27663 \nL 86.979585 181.764853 \nL 88.914994 180.715364 \nL 90.850404 179.403198 \nL 93.430949 177.362705 \nL 96.656632 174.516781 \nL 103.753132 167.845022 \nL 109.55936 162.52401 \nL 114.075315 158.66763 \nL 118.59127 155.122318 \nL 122.462089 152.348031 \nL 126.332907 149.819812 \nL 130.203726 147.532084 \nL 134.074544 145.474987 \nL 138.590499 143.349971 \nL 143.106454 141.500283 \nL 147.622409 139.903471 \nL 152.138364 138.537392 \nL 157.299456 137.231527 \nL 162.460547 136.169735 \nL 167.621638 135.324848 \nL 173.427866 134.603031 \nL 179.879231 134.048443 \nL 186.330595 133.717952 \nL 193.427096 133.574357 \nL 201.168733 133.638251 \nL 210.200643 133.951168 \nL 219.877689 134.514058 \nL 230.845008 135.371967 \nL 243.747737 136.602662 \nL 259.876147 138.371361 \nL 281.810786 141.017112 \nL 378.58125 153.038561 \nL 378.58125 153.038561 \n\" style=\"fill:none;stroke:#9b59b6;stroke-linecap:square;stroke-opacity:0.3;stroke-width:2;\"/>\n   </g>\n   <g id=\"line2d_17\">\n    <path clip-path=\"url(#pf9f9bf4f8e)\" d=\"M 58.772682 -1 \nL 59.883855 28.465963 \nL 61.174128 56.98284 \nL 62.464401 80.606197 \nL 63.754674 100.191176 \nL 65.044947 116.426812 \nL 66.335219 129.872399 \nL 67.625492 140.984943 \nL 68.270629 145.369042 \nL 316.648153 145.428235 \nL 359.872294 150.811796 \nL 378.58125 153.038561 \nL 378.58125 153.038561 \n\" style=\"fill:none;stroke:#9b59b6;stroke-linecap:square;stroke-width:2;\"/>\n   </g>\n   <g id=\"line2d_18\">\n    <path clip-path=\"url(#pf9f9bf4f8e)\" d=\"M 61.225995 -1 \nL 62.464401 24.310248 \nL 63.754674 46.438719 \nL 65.044947 64.997948 \nL 66.335219 80.574565 \nL 67.625492 93.648562 \nL 68.915765 104.615073 \nL 70.206038 113.801188 \nL 71.496311 121.47904 \nL 72.786584 127.876081 \nL 74.076857 133.183223 \nL 75.367129 137.561329 \nL 76.657402 141.146419 \nL 77.947675 144.053881 \nL 79.237948 146.381891 \nL 80.528221 148.214207 \nL 81.818494 149.622463 \nL 83.108767 150.668062 \nL 84.399039 151.403746 \nL 85.689312 151.8749 \nL 86.979585 152.120641 \nL 88.269858 152.174737 \nL 90.205267 151.959293 \nL 92.140677 151.459874 \nL 94.076086 150.742986 \nL 96.656632 149.540132 \nL 99.882314 147.774885 \nL 105.043405 144.658863 \nL 114.075315 139.206544 \nL 119.236406 136.376865 \nL 123.752361 134.143664 \nL 128.268316 132.153066 \nL 132.784271 130.405671 \nL 137.300226 128.893663 \nL 141.816181 127.604386 \nL 146.977273 126.38412 \nL 152.138364 125.410642 \nL 157.299456 124.659625 \nL 163.105683 124.051571 \nL 168.911911 123.664474 \nL 175.363276 123.45927 \nL 182.459776 123.467335 \nL 190.201413 123.710092 \nL 198.588187 124.198904 \nL 208.265233 124.995413 \nL 219.232553 126.129172 \nL 232.135281 127.690844 \nL 248.908828 129.962821 \nL 273.424012 133.539601 \nL 337.937655 143.042842 \nL 366.323658 146.952211 \nL 378.58125 148.568166 \nL 378.58125 148.568166 \n\" style=\"fill:none;stroke:#4c72b0;stroke-linecap:square;stroke-opacity:0.3;stroke-width:2;\"/>\n   </g>\n   <g id=\"line2d_19\">\n    <path clip-path=\"url(#pf9f9bf4f8e)\" d=\"M 61.225995 -1 \nL 62.464401 24.310248 \nL 63.754674 46.438719 \nL 65.044947 64.997948 \nL 66.335219 80.574565 \nL 67.625492 93.648562 \nL 68.915765 104.615073 \nL 70.206038 113.801188 \nL 71.496311 121.47904 \nL 72.786584 127.876081 \nL 73.43172 130.655198 \nL 74.076857 131.455262 \nL 259.876147 131.539119 \nL 298.584333 137.30189 \nL 335.357109 142.676582 \nL 364.388249 146.692971 \nL 378.58125 148.568166 \nL 378.58125 148.568166 \n\" style=\"fill:none;stroke:#4c72b0;stroke-linecap:square;stroke-width:2;\"/>\n   </g>\n   <g id=\"line2d_20\">\n    <path clip-path=\"url(#pf9f9bf4f8e)\" d=\"M 64.129265 -1 \nL 65.044947 13.569084 \nL 66.335219 31.276732 \nL 67.625492 46.31218 \nL 68.915765 59.090033 \nL 70.206038 69.953975 \nL 71.496311 79.190377 \nL 72.786584 87.038974 \nL 74.076857 93.70133 \nL 75.367129 99.347591 \nL 76.657402 104.121905 \nL 77.947675 108.146807 \nL 79.237948 111.526782 \nL 80.528221 114.351179 \nL 81.818494 116.696603 \nL 83.108767 118.628895 \nL 84.399039 120.204767 \nL 85.689312 121.473169 \nL 86.979585 122.476429 \nL 88.269858 123.25121 \nL 89.560131 123.82932 \nL 91.49554 124.38717 \nL 93.430949 124.642422 \nL 95.366359 124.658963 \nL 97.946904 124.398196 \nL 100.52745 123.902056 \nL 103.753132 123.062548 \nL 108.914224 121.450488 \nL 120.526679 117.724833 \nL 126.332907 116.132571 \nL 131.493999 114.93957 \nL 136.65509 113.965713 \nL 141.816181 113.206794 \nL 147.622409 112.595413 \nL 153.428637 112.219471 \nL 159.234865 112.054789 \nL 165.686229 112.090108 \nL 172.78273 112.357979 \nL 180.524367 112.880328 \nL 188.911141 113.66809 \nL 198.588187 114.803897 \nL 210.200643 116.407973 \nL 224.393644 118.615319 \nL 243.1026 121.769669 \nL 328.905745 136.527232 \nL 353.420929 140.379469 \nL 377.936114 144.005431 \nL 378.58125 144.097771 \nL 378.58125 144.097771 \n\" style=\"fill:none;stroke:#55a868;stroke-linecap:square;stroke-opacity:0.3;stroke-width:2;\"/>\n   </g>\n   <g id=\"line2d_21\">\n    <path clip-path=\"url(#pf9f9bf4f8e)\" d=\"M 64.129265 -1 \nL 65.044947 13.569084 \nL 66.335219 31.276732 \nL 67.625492 46.31218 \nL 68.915765 59.090033 \nL 70.206038 69.953975 \nL 71.496311 79.190377 \nL 72.786584 87.038974 \nL 74.076857 93.70133 \nL 75.367129 99.347591 \nL 76.657402 104.121905 \nL 77.947675 108.146807 \nL 79.237948 111.526782 \nL 80.528221 114.351179 \nL 81.173357 115.579416 \nL 81.818494 116.202746 \nL 209.555506 116.313302 \nL 223.103371 118.406263 \nL 241.167191 121.435262 \nL 278.585104 128.002914 \nL 310.841925 133.551719 \nL 336.647382 137.767666 \nL 361.162566 141.549178 \nL 378.58125 144.097771 \nL 378.58125 144.097771 \n\" style=\"fill:none;stroke:#55a868;stroke-linecap:square;stroke-width:2;\"/>\n   </g>\n   <g id=\"line2d_22\">\n    <path clip-path=\"url(#pf9f9bf4f8e)\" d=\"M 67.627554 -1 \nL 68.915765 13.564992 \nL 70.206038 26.106762 \nL 71.496311 36.901714 \nL 72.786584 46.201866 \nL 74.076857 54.219437 \nL 75.367129 61.133853 \nL 76.657402 67.097391 \nL 77.947675 72.239733 \nL 79.237948 76.671673 \nL 80.528221 80.488151 \nL 81.818494 83.770744 \nL 83.108767 86.589729 \nL 84.399039 89.005789 \nL 85.689312 91.071439 \nL 86.979585 92.832217 \nL 88.269858 94.327684 \nL 90.205267 96.147516 \nL 92.140677 97.545023 \nL 94.076086 98.600354 \nL 96.011495 99.379112 \nL 97.946904 99.935117 \nL 100.52745 100.405261 \nL 103.107996 100.641038 \nL 106.333678 100.703489 \nL 110.849633 100.520256 \nL 118.59127 99.900609 \nL 128.268316 99.166346 \nL 135.364817 98.863829 \nL 141.816181 98.809202 \nL 148.267546 98.966324 \nL 155.364046 99.36793 \nL 163.105683 100.049129 \nL 171.492457 101.03038 \nL 180.524367 102.317548 \nL 190.84655 104.015379 \nL 203.104142 106.258469 \nL 219.232553 109.446942 \nL 248.263692 115.46265 \nL 281.810786 122.343429 \nL 305.680834 127.00688 \nL 327.615472 131.068862 \nL 349.550111 134.902858 \nL 371.484749 138.508628 \nL 378.58125 139.627377 \nL 378.58125 139.627377 \n\" style=\"fill:none;stroke:#c44e52;stroke-linecap:square;stroke-opacity:0.3;stroke-width:2;\"/>\n   </g>\n   <g id=\"line2d_23\">\n    <path clip-path=\"url(#pf9f9bf4f8e)\" d=\"M 67.627554 -1 \nL 68.915765 13.564992 \nL 70.206038 26.106762 \nL 71.496311 36.901714 \nL 72.786584 46.201866 \nL 74.076857 54.219437 \nL 75.367129 61.133853 \nL 76.657402 67.097391 \nL 77.947675 72.239733 \nL 79.237948 76.671673 \nL 80.528221 80.488151 \nL 81.818494 83.770744 \nL 83.108767 86.589729 \nL 84.399039 89.005789 \nL 85.689312 91.071439 \nL 86.979585 92.832217 \nL 88.269858 94.327684 \nL 90.205267 96.147516 \nL 92.140677 97.545023 \nL 94.076086 98.600354 \nL 96.011495 99.379112 \nL 96.656632 99.579205 \nL 159.234865 99.67905 \nL 166.976502 100.473349 \nL 175.363276 101.555844 \nL 185.040322 103.034438 \nL 196.652778 105.052486 \nL 210.845779 107.763833 \nL 230.845008 111.83385 \nL 287.617014 123.499274 \nL 310.841925 127.982733 \nL 332.776564 131.99166 \nL 354.711202 135.771634 \nL 376.645841 139.324543 \nL 378.58125 139.627377 \nL 378.58125 139.627377 \n\" style=\"fill:none;stroke:#c44e52;stroke-linecap:square;stroke-width:2;\"/>\n   </g>\n   <g id=\"line2d_24\">\n    <path clip-path=\"url(#pf9f9bf4f8e)\" d=\"M 72.00522 -1 \nL 72.786584 5.364759 \nL 74.076857 14.737543 \nL 75.367129 22.920114 \nL 76.657402 30.072877 \nL 77.947675 36.332659 \nL 79.237948 41.816564 \nL 80.528221 46.625123 \nL 81.818494 50.844884 \nL 83.108767 54.550562 \nL 85.044176 59.284223 \nL 86.979585 63.188004 \nL 88.914994 66.410699 \nL 90.850404 69.07358 \nL 92.785813 71.275872 \nL 94.721222 73.099042 \nL 96.656632 74.610185 \nL 98.592041 75.864705 \nL 101.172587 77.216322 \nL 103.753132 78.280074 \nL 106.333678 79.12451 \nL 109.55936 79.952277 \nL 113.430179 80.714071 \nL 118.59127 81.493372 \nL 128.268316 82.672985 \nL 140.525909 84.228995 \nL 149.557819 85.599207 \nL 159.234865 87.303311 \nL 169.557048 89.358914 \nL 181.169503 91.901146 \nL 196.007641 95.389033 \nL 219.877689 101.266148 \nL 254.715056 109.812276 \nL 276.004558 114.800512 \nL 296.003787 119.259278 \nL 315.35788 123.347357 \nL 334.711973 127.209267 \nL 354.711202 130.967268 \nL 374.710431 134.498642 \nL 378.58125 135.156982 \nL 378.58125 135.156982 \n\" style=\"fill:none;stroke:#dbc256;stroke-linecap:square;stroke-opacity:0.3;stroke-width:2;\"/>\n   </g>\n   <g id=\"line2d_25\">\n    <path clip-path=\"url(#pf9f9bf4f8e)\" d=\"M 72.00522 -1 \nL 72.786584 5.364759 \nL 74.076857 14.737543 \nL 75.367129 22.920114 \nL 76.657402 30.072877 \nL 77.947675 36.332659 \nL 79.237948 41.816564 \nL 80.528221 46.625123 \nL 81.818494 50.844884 \nL 83.108767 54.550562 \nL 85.044176 59.284223 \nL 86.979585 63.188004 \nL 88.914994 66.410699 \nL 90.850404 69.07358 \nL 92.785813 71.275872 \nL 94.721222 73.099042 \nL 96.656632 74.610185 \nL 98.592041 75.864705 \nL 101.172587 77.216322 \nL 103.753132 78.280074 \nL 106.333678 79.12451 \nL 109.55936 79.952277 \nL 113.430179 80.714071 \nL 118.59127 81.493372 \nL 128.268316 82.672985 \nL 140.525909 84.228995 \nL 149.557819 85.599207 \nL 159.234865 87.303311 \nL 169.557048 89.358914 \nL 181.169503 91.901146 \nL 196.007641 95.389033 \nL 219.877689 101.266148 \nL 254.715056 109.812276 \nL 276.004558 114.800512 \nL 296.003787 119.259278 \nL 315.35788 123.347357 \nL 334.711973 127.209267 \nL 354.711202 130.967268 \nL 374.710431 134.498642 \nL 378.58125 135.156982 \nL 378.58125 135.156982 \n\" style=\"fill:none;stroke:#dbc256;stroke-linecap:square;stroke-width:2;\"/>\n   </g>\n   <g id=\"patch_3\">\n    <path d=\"M 43.78125 228.439219 \nL 43.78125 10.999219 \n\" style=\"fill:none;stroke:#000000;stroke-linecap:square;stroke-linejoin:miter;stroke-width:0.8;\"/>\n   </g>\n   <g id=\"patch_4\">\n    <path d=\"M 378.58125 228.439219 \nL 378.58125 10.999219 \n\" style=\"fill:none;stroke:#000000;stroke-linecap:square;stroke-linejoin:miter;stroke-width:0.8;\"/>\n   </g>\n   <g id=\"patch_5\">\n    <path d=\"M 43.78125 228.439219 \nL 378.58125 228.439219 \n\" style=\"fill:none;stroke:#000000;stroke-linecap:square;stroke-linejoin:miter;stroke-width:0.8;\"/>\n   </g>\n   <g id=\"patch_6\">\n    <path d=\"M 43.78125 10.999219 \nL 378.58125 10.999219 \n\" style=\"fill:none;stroke:#000000;stroke-linecap:square;stroke-linejoin:miter;stroke-width:0.8;\"/>\n   </g>\n   <g id=\"legend_1\">\n    <g id=\"patch_7\">\n     <path d=\"M 258.214063 107.067969 \nL 371.58125 107.067969 \nQ 373.58125 107.067969 373.58125 105.067969 \nL 373.58125 17.999219 \nQ 373.58125 15.999219 371.58125 15.999219 \nL 258.214063 15.999219 \nQ 256.214063 15.999219 256.214063 17.999219 \nL 256.214063 105.067969 \nQ 256.214063 107.067969 258.214063 107.067969 \nz\n\" style=\"fill:#ffffff;opacity:0.8;stroke:#cccccc;stroke-linejoin:miter;\"/>\n    </g>\n    <g id=\"text_18\">\n     <!-- Reduced temperature -->\n     <defs>\n      <path d=\"M 18.3125 70.21875 \nL 18.3125 54.6875 \nL 36.8125 54.6875 \nL 36.8125 47.703125 \nL 18.3125 47.703125 \nL 18.3125 18.015625 \nQ 18.3125 11.328125 20.140625 9.421875 \nQ 21.96875 7.515625 27.59375 7.515625 \nL 36.8125 7.515625 \nL 36.8125 0 \nL 27.59375 0 \nQ 17.1875 0 13.234375 3.875 \nQ 9.28125 7.765625 9.28125 18.015625 \nL 9.28125 47.703125 \nL 2.6875 47.703125 \nL 2.6875 54.6875 \nL 9.28125 54.6875 \nL 9.28125 70.21875 \nz\n\" id=\"DejaVuSans-116\"/>\n      <path d=\"M 34.28125 27.484375 \nQ 23.390625 27.484375 19.1875 25 \nQ 14.984375 22.515625 14.984375 16.5 \nQ 14.984375 11.71875 18.140625 8.90625 \nQ 21.296875 6.109375 26.703125 6.109375 \nQ 34.1875 6.109375 38.703125 11.40625 \nQ 43.21875 16.703125 43.21875 25.484375 \nL 43.21875 27.484375 \nz\nM 52.203125 31.203125 \nL 52.203125 0 \nL 43.21875 0 \nL 43.21875 8.296875 \nQ 40.140625 3.328125 35.546875 0.953125 \nQ 30.953125 -1.421875 24.3125 -1.421875 \nQ 15.921875 -1.421875 10.953125 3.296875 \nQ 6 8.015625 6 15.921875 \nQ 6 25.140625 12.171875 29.828125 \nQ 18.359375 34.515625 30.609375 34.515625 \nL 43.21875 34.515625 \nL 43.21875 35.40625 \nQ 43.21875 41.609375 39.140625 45 \nQ 35.0625 48.390625 27.6875 48.390625 \nQ 23 48.390625 18.546875 47.265625 \nQ 14.109375 46.140625 10.015625 43.890625 \nL 10.015625 52.203125 \nQ 14.9375 54.109375 19.578125 55.046875 \nQ 24.21875 56 28.609375 56 \nQ 40.484375 56 46.34375 49.84375 \nQ 52.203125 43.703125 52.203125 31.203125 \nz\n\" id=\"DejaVuSans-97\"/>\n     </defs>\n     <g transform=\"translate(260.214063 27.597656)scale(0.1 -0.1)\">\n      <use xlink:href=\"#DejaVuSans-82\"/>\n      <use x=\"64.982422\" xlink:href=\"#DejaVuSans-101\"/>\n      <use x=\"126.505859\" xlink:href=\"#DejaVuSans-100\"/>\n      <use x=\"189.982422\" xlink:href=\"#DejaVuSans-117\"/>\n      <use x=\"253.361328\" xlink:href=\"#DejaVuSans-99\"/>\n      <use x=\"308.341797\" xlink:href=\"#DejaVuSans-101\"/>\n      <use x=\"369.865234\" xlink:href=\"#DejaVuSans-100\"/>\n      <use x=\"433.341797\" xlink:href=\"#DejaVuSans-32\"/>\n      <use x=\"465.128906\" xlink:href=\"#DejaVuSans-116\"/>\n      <use x=\"504.337891\" xlink:href=\"#DejaVuSans-101\"/>\n      <use x=\"565.861328\" xlink:href=\"#DejaVuSans-109\"/>\n      <use x=\"663.273438\" xlink:href=\"#DejaVuSans-112\"/>\n      <use x=\"726.75\" xlink:href=\"#DejaVuSans-101\"/>\n      <use x=\"788.273438\" xlink:href=\"#DejaVuSans-114\"/>\n      <use x=\"829.386719\" xlink:href=\"#DejaVuSans-97\"/>\n      <use x=\"890.666016\" xlink:href=\"#DejaVuSans-116\"/>\n      <use x=\"929.875\" xlink:href=\"#DejaVuSans-117\"/>\n      <use x=\"993.253906\" xlink:href=\"#DejaVuSans-114\"/>\n      <use x=\"1032.117188\" xlink:href=\"#DejaVuSans-101\"/>\n     </g>\n    </g>\n    <g id=\"line2d_26\">\n     <path d=\"M 289.764844 38.775781 \nL 309.764844 38.775781 \n\" style=\"fill:none;stroke:#9b59b6;stroke-linecap:square;stroke-width:2;\"/>\n    </g>\n    <g id=\"line2d_27\"/>\n    <g id=\"text_19\">\n     <!-- 0.89 -->\n     <defs>\n      <path d=\"M 10.984375 1.515625 \nL 10.984375 10.5 \nQ 14.703125 8.734375 18.5 7.8125 \nQ 22.3125 6.890625 25.984375 6.890625 \nQ 35.75 6.890625 40.890625 13.453125 \nQ 46.046875 20.015625 46.78125 33.40625 \nQ 43.953125 29.203125 39.59375 26.953125 \nQ 35.25 24.703125 29.984375 24.703125 \nQ 19.046875 24.703125 12.671875 31.3125 \nQ 6.296875 37.9375 6.296875 49.421875 \nQ 6.296875 60.640625 12.9375 67.421875 \nQ 19.578125 74.21875 30.609375 74.21875 \nQ 43.265625 74.21875 49.921875 64.515625 \nQ 56.59375 54.828125 56.59375 36.375 \nQ 56.59375 19.140625 48.40625 8.859375 \nQ 40.234375 -1.421875 26.421875 -1.421875 \nQ 22.703125 -1.421875 18.890625 -0.6875 \nQ 15.09375 0.046875 10.984375 1.515625 \nz\nM 30.609375 32.421875 \nQ 37.25 32.421875 41.125 36.953125 \nQ 45.015625 41.5 45.015625 49.421875 \nQ 45.015625 57.28125 41.125 61.84375 \nQ 37.25 66.40625 30.609375 66.40625 \nQ 23.96875 66.40625 20.09375 61.84375 \nQ 16.21875 57.28125 16.21875 49.421875 \nQ 16.21875 41.5 20.09375 36.953125 \nQ 23.96875 32.421875 30.609375 32.421875 \nz\n\" id=\"DejaVuSans-57\"/>\n     </defs>\n     <g transform=\"translate(317.764844 42.275781)scale(0.1 -0.1)\">\n      <use xlink:href=\"#DejaVuSans-48\"/>\n      <use x=\"63.623047\" xlink:href=\"#DejaVuSans-46\"/>\n      <use x=\"95.410156\" xlink:href=\"#DejaVuSans-56\"/>\n      <use x=\"159.033203\" xlink:href=\"#DejaVuSans-57\"/>\n     </g>\n    </g>\n    <g id=\"line2d_28\">\n     <path d=\"M 289.764844 53.453906 \nL 309.764844 53.453906 \n\" style=\"fill:none;stroke:#4c72b0;stroke-linecap:square;stroke-width:2;\"/>\n    </g>\n    <g id=\"line2d_29\"/>\n    <g id=\"text_20\">\n     <!-- 0.92 -->\n     <g transform=\"translate(317.764844 56.953906)scale(0.1 -0.1)\">\n      <use xlink:href=\"#DejaVuSans-48\"/>\n      <use x=\"63.623047\" xlink:href=\"#DejaVuSans-46\"/>\n      <use x=\"95.410156\" xlink:href=\"#DejaVuSans-57\"/>\n      <use x=\"159.033203\" xlink:href=\"#DejaVuSans-50\"/>\n     </g>\n    </g>\n    <g id=\"line2d_30\">\n     <path d=\"M 289.764844 68.132031 \nL 309.764844 68.132031 \n\" style=\"fill:none;stroke:#55a868;stroke-linecap:square;stroke-width:2;\"/>\n    </g>\n    <g id=\"line2d_31\"/>\n    <g id=\"text_21\">\n     <!-- 0.95 -->\n     <g transform=\"translate(317.764844 71.632031)scale(0.1 -0.1)\">\n      <use xlink:href=\"#DejaVuSans-48\"/>\n      <use x=\"63.623047\" xlink:href=\"#DejaVuSans-46\"/>\n      <use x=\"95.410156\" xlink:href=\"#DejaVuSans-57\"/>\n      <use x=\"159.033203\" xlink:href=\"#DejaVuSans-53\"/>\n     </g>\n    </g>\n    <g id=\"line2d_32\">\n     <path d=\"M 289.764844 82.810156 \nL 309.764844 82.810156 \n\" style=\"fill:none;stroke:#c44e52;stroke-linecap:square;stroke-width:2;\"/>\n    </g>\n    <g id=\"line2d_33\"/>\n    <g id=\"text_22\">\n     <!-- 0.99 -->\n     <g transform=\"translate(317.764844 86.310156)scale(0.1 -0.1)\">\n      <use xlink:href=\"#DejaVuSans-48\"/>\n      <use x=\"63.623047\" xlink:href=\"#DejaVuSans-46\"/>\n      <use x=\"95.410156\" xlink:href=\"#DejaVuSans-57\"/>\n      <use x=\"159.033203\" xlink:href=\"#DejaVuSans-57\"/>\n     </g>\n    </g>\n    <g id=\"line2d_34\">\n     <path d=\"M 289.764844 97.488281 \nL 309.764844 97.488281 \n\" style=\"fill:none;stroke:#dbc256;stroke-linecap:square;stroke-width:2;\"/>\n    </g>\n    <g id=\"line2d_35\"/>\n    <g id=\"text_23\">\n     <!-- 1.02 -->\n     <g transform=\"translate(317.764844 100.988281)scale(0.1 -0.1)\">\n      <use xlink:href=\"#DejaVuSans-49\"/>\n      <use x=\"63.623047\" xlink:href=\"#DejaVuSans-46\"/>\n      <use x=\"95.410156\" xlink:href=\"#DejaVuSans-48\"/>\n      <use x=\"159.033203\" xlink:href=\"#DejaVuSans-50\"/>\n     </g>\n    </g>\n   </g>\n  </g>\n </g>\n <defs>\n  <clipPath id=\"pf9f9bf4f8e\">\n   <rect height=\"217.44\" width=\"334.8\" x=\"43.78125\" y=\"10.999219\"/>\n  </clipPath>\n </defs>\n</svg>\n"
          },
          "metadata": {
            "needs_background": "light"
          }
        }
      ]
    },
    {
      "cell_type": "code",
      "source": [
        "%%svg\n",
        "https://upload.wikimedia.org/wikipedia/commons/f/f1/MaxwellEqArea.svg"
      ],
      "metadata": {
        "id": "vqGOFRy-OI8y"
      },
      "execution_count": null,
      "outputs": []
    },
    {
      "cell_type": "markdown",
      "source": [
        "### 偏微分の演算\n",
        "\n",
        "\\begin{align}\n",
        "f(p,V,T) = 0\n",
        "\\to\n",
        "\\begin{cases}\n",
        "p =& p(V,T)\\\\\n",
        "V =& V(p,T)\\\\\n",
        "T =& T(p, V)\n",
        "\\end{cases}\n",
        "\\end{align}\n",
        "\n",
        "\\begin{align}\n",
        "p(V,T) &\\to  p(V+\\Delta V, T+\\Delta T) \\sim p(V+ d V, T+ d T) \\\\[5mm]\n",
        "dp &= \n",
        "\\left(\\dfrac{\\partial p}{\\partial T} \\right)_V dT\n",
        "+\n",
        "\\left(\\dfrac{\\partial p}{\\partial V} \\right)_T dV \n",
        "\\quad\n",
        "\\begin{cases}\n",
        "\\xrightarrow{\\Delta V = 0}\n",
        " & d p = \\left( \\dfrac{\\partial p}{\\partial T}\\right)_{V} d T \n",
        " \\to 1 = \\left( \\dfrac{\\partial p}{\\partial T}\\right)_{V} \n",
        " \\left( \\dfrac{\\partial T}{\\partial p}\\right)_{V} \n",
        " \\\\\n",
        " \\xrightarrow{\\Delta T = 0}\n",
        " & d p = \\left( \\dfrac{\\partial p}{\\partial V}\\right)_{T} d V\n",
        " \\to 1 = \\left( \\dfrac{\\partial p}{\\partial V}\\right)_{T} \n",
        " \\left( \\dfrac{\\partial V}{\\partial p}\\right)_{T}\n",
        "\\end{cases}\n",
        "\\end{align}\n"
      ],
      "metadata": {
        "id": "eYH-VMTNgq6T"
      }
    },
    {
      "cell_type": "markdown",
      "source": [
        "$\\require{cancel}$\n",
        "\\begin{align}\n",
        "\\left(\\dfrac{\\partial p}{\\partial T} \\right)_V dT\n",
        "+\n",
        "\\left(\\dfrac{\\partial p}{\\partial V} \\right)_T dV \n",
        "&= \\cancelto{0}{dp}\\\\\n",
        "\\left(\\dfrac{\\partial p}{\\partial T} \\right)_V  \n",
        "+ \\left(\\dfrac{\\partial p}{\\partial V} \\right)_T \n",
        "\\left(\\frac{\\partial V}{\\partial T}\\right)_{p}\n",
        "&= 0\\\\\n",
        "\\cancelto{1}\n",
        "{\\left(\\dfrac{\\partial p}{\\partial V} \\right)_V \n",
        "\\ \\left( \\dfrac{\\partial T}{\\partial p}\\right)_{V}}\n",
        "+ \\left(\\dfrac{\\partial p}{\\partial V} \\right)_T \n",
        "\\left(\\frac{\\partial V}{\\partial T}\\right)_{p}\n",
        "\\  \\left( \\dfrac{\\partial T}{\\partial p}\\right)_{V} \n",
        "&= 0\\\\\n",
        "\\left(\\dfrac{\\partial p}{\\partial V} \\right)_T \n",
        "\\left(\\frac{\\partial V}{\\partial T}\\right)_{p}\n",
        "\\  \\left( \\dfrac{\\partial T}{\\partial p}\\right)_{V}  = - 1 \n",
        "\\end{align}"
      ],
      "metadata": {
        "id": "Ra5RtZsTQwQ3"
      }
    },
    {
      "cell_type": "markdown",
      "source": [
        "#### [例題4]"
      ],
      "metadata": {
        "id": "S0l9AfzsSwnv"
      }
    },
    {
      "cell_type": "markdown",
      "source": [
        "\\begin{align}\n",
        "p = \\dfrac{RT}{V-b} - \\dfrac{a}{V^2}\n",
        "\\begin{cases}\n",
        "V < b: T<0 (\\because p>0)\\\\\n",
        "V \\geqq b: T>0\n",
        "\\end{cases}\n",
        "\\end{align}"
      ],
      "metadata": {
        "id": "X88DiJHEoUhH"
      }
    },
    {
      "cell_type": "markdown",
      "source": [
        "1st\n",
        "\\begin{align}\n",
        "\\dfrac{\\partial}{\\partial V}_T\\left( \\left\\{ P + a\\left( \\frac{n}{V}\\right)^2 \\right\\} (V - n b) \\right)\n",
        "&=\n",
        "\\dfrac{\\partial}{\\partial V}_T \\left( n R T\\right)\\\\\n",
        "%\n",
        "\\left[\\left(\\frac{\\partial p}{\\partial V}\\right)_{T}\n",
        "- \\frac{2 a}{V^{3}}\\right](V-b)+\\left(p+\\frac{a}{V^{2}}\\right)\n",
        "&=0\\\\\n",
        "%\n",
        "\\left[\\left(\\frac{\\partial p}{\\partial V}\\right)_{T}\n",
        "- \\frac{2 a}{V^{3}}\\right](V-b)^2 +\n",
        "\\cancelto{RT}{\\left(p+\\frac{a}{V^{2}}\\right)(V-b)}\n",
        "&=0\\\\\n",
        "%\n",
        "V^{3}(V-b)^{2}\n",
        "\\cancelto{0}{\\left(\\frac{\\partial p}{\\partial V}\\right)_{T}}\n",
        "&=2 a(V-b)^{2}-R T V^{3}\\\\\n",
        "%\n",
        "2 a(V-b)^{2}&=R T V^{3}\n",
        "\\begin{cases}\n",
        "  y = 2 a(V-b)^{2}\\\\\n",
        "  y = R T V^{3}\n",
        "\\end{cases}\n",
        "\\end{align}\n"
      ],
      "metadata": {
        "id": "34tF_zQYVj09"
      }
    },
    {
      "cell_type": "markdown",
      "source": [
        "2nd\n",
        "\\begin{align}\n",
        "\\dfrac{\\partial}{\\partial V}_T\n",
        "\\left\\{\n",
        "  \\left[\\left(\\frac{\\partial p}{\\partial V}\\right)_{T}\n",
        "  - \\frac{2 a}{V^{3}}\\right](V-b)^2 +{RT}\n",
        "\\right\\}\n",
        "&=0\\\\\n",
        "%\n",
        "\\left[\\left(\\frac{\\partial^2 p}{\\partial^2 V}\\right)_{T}\n",
        "+3 \\frac{2 a}{V^{4}}\\right](V-b)^2\n",
        "+\n",
        "\\left[\\left(\\frac{\\partial p}{\\partial V}\\right)_{T}\n",
        "  - \\frac{2 a}{V^{3}}\\right] 2 (V-b)\n",
        "- 0\n",
        "&=0\\\\\n",
        "\\left[\\left(\\frac{\\partial^2 p}{\\partial^2 V}\\right)_{T}\n",
        "+\\frac{6 a}{V^{4}}\\right](V-b)^3\n",
        "+\n",
        "2\\cancelto{-RT}{\\left[\\left(\\frac{\\partial p}{\\partial V}\\right)_{T}\n",
        "  - \\frac{2 a}{V^{3}}\\right](V-b)^2}\n",
        "&=0\\\\\n",
        "%\n",
        "\\left[\\cancelto{0}{\\left(\\frac{\\partial^2 p}{\\partial^2 V}\\right)_{T}}\n",
        "+\\frac{6 a}{V^{4}}\\right](V-b)^3\n",
        "&=2RT\n",
        "\\end{align}\n"
      ],
      "metadata": {
        "id": "9Baki2i1sXmU"
      }
    },
    {
      "cell_type": "markdown",
      "source": [
        "\\begin{cases}\n",
        "2 a(V-b)^2&=R T V^{3}\\\\\n",
        "3 a(V-b)^3&=R T V^4\n",
        "\\end{cases}"
      ],
      "metadata": {
        "id": "33Oc7kNErkmS"
      }
    },
    {
      "cell_type": "markdown",
      "source": [
        "\n",
        "\n",
        "\\begin{align}\n",
        "\\dfrac{3 a(V_c-b)^3}{2 a(V_c-b)^2} &= \\dfrac{R T V_c^4}{R T V_c^{3}}\\\\\n",
        "\\begin{cases}\n",
        "V_c &= 3 b\\\\\n",
        "T_c &= \\dfrac{8a}{27 R b}\\\\\n",
        "p_c &= \\dfrac{a}{27b^2}\n",
        "\\end{cases}\n",
        "\\end{align}"
      ],
      "metadata": {
        "id": "ScT17utOrcCQ"
      }
    },
    {
      "cell_type": "markdown",
      "source": [
        "## 内部エネルギー\n"
      ],
      "metadata": {
        "id": "CWyFhYOgl5hN"
      }
    },
    {
      "cell_type": "markdown",
      "source": [
        "- [Avogadro constant](https://en.wikipedia.org/wiki/Avogadro_constant)\n",
        "  - [物質量の単位「モル」の基礎解説, NIMS](https://unit.aist.go.jp/nmij/public/report/SI_9th/pdf/6_SI_%E3%83%A2%E3%83%AB.pdf)"
      ],
      "metadata": {
        "id": "5MySxXl_sf4w"
      }
    },
    {
      "cell_type": "markdown",
      "source": [
        "## 熱力学第一法則\n"
      ],
      "metadata": {
        "id": "DmjdnMKCmOyQ"
      }
    },
    {
      "cell_type": "markdown",
      "source": [
        "\\begin{align}\n",
        "U_{\\rm B} - U_{\\rm A} &= W + Q\\\\\n",
        "\\Delta U_{\\rm A} &= \\Delta' W + \\Delta' Q\\\\\n",
        "d U_{\\rm A} &= d' W + d' Q\\\\\n",
        "\\end{align}\n",
        "\n",
        "--\n",
        "$d'$ [Inexact differential](https://en.wikipedia.org/wiki/Inexact_differential#Thermodynamics)"
      ],
      "metadata": {
        "id": "kWR0h_--tSRf"
      }
    },
    {
      "cell_type": "markdown",
      "source": [
        "### 微小変化の場合"
      ],
      "metadata": {
        "id": "bCNF6BOCuGFe"
      }
    },
    {
      "cell_type": "markdown",
      "source": [
        "- [Quasistatic process](https://en.wikipedia.org/wiki/Quasistatic_process): $d'W = - p d V$"
      ],
      "metadata": {
        "id": "1ycBRh0zuLcm"
      }
    },
    {
      "cell_type": "markdown",
      "source": [
        "## 第一法則の応用\n"
      ],
      "metadata": {
        "id": "Rg-Gg1FjmRoB"
      }
    },
    {
      "cell_type": "markdown",
      "source": [
        "\\begin{align}\n",
        "f(p,V,T) =0 \\qquad\n",
        "\\begin{cases}\n",
        "d'W \\sim W=W(\\bcancel{p},V)\\\\\n",
        "d'W \\sim Q=Q(\\bcancel{*},T)\n",
        "\\end{cases}\\\\[5mm]\n",
        "\\end{align}\n",
        "\n",
        "\\begin{align}\n",
        "dU &= d'W + d'Q \\\\\n",
        "&= - p dV+ d'Q \\\\\n",
        "&\\begin{cases}\n",
        "&U = U(T,V) \\\\\n",
        "&dU =\n",
        "\\left(\\dfrac{\\partial U}{\\partial T}\\right)_V dT\n",
        "+\n",
        "\\left(\\dfrac{\\partial U}{\\partial V}\\right)_T dV\n",
        "\\end{cases}\n",
        "\\end{align}"
      ],
      "metadata": {
        "id": "whEeUVPHviP2"
      }
    },
    {
      "cell_type": "markdown",
      "source": [
        "\\begin{align}\n",
        "d'Q = \\left(\\dfrac{\\partial U}{\\partial T}\\right)_V dT\n",
        "+\n",
        "\\left[ p +\\left(\\dfrac{\\partial U}{\\partial V}\\right)_T \\right] dV\n",
        "\\end{align}\n",
        "$\\frac{d'Q}{dT}$ is related to [sensible heat](https://en.wikipedia.org/wiki/Sensible_heat)."
      ],
      "metadata": {
        "id": "yb7aQ42jxW9T"
      }
    },
    {
      "cell_type": "markdown",
      "source": [
        "#### 定積(モル)比熱\n",
        "$dV =0$\n",
        "\\begin{align}\n",
        "d'Q &= \\left(\\dfrac{\\partial U}{\\partial T}\\right)_V dT\n",
        "+\n",
        "\\left[ p +\\left(\\dfrac{\\partial U}{\\partial V}\\right)_T \\right] \\cancelto{0}{dV}\\\\\n",
        "C_V &= \\left(\\dfrac{d'Q}{dT}\\right)_V = \\left(\\dfrac{\\partial U}{\\partial T}\\right)_V  \\xrightarrow{n = 1} C_{m,V} = \\dfrac{d U}{d T}\n",
        "\\end{align}\n"
      ],
      "metadata": {
        "id": "XaZvyaEfyik6"
      }
    },
    {
      "cell_type": "markdown",
      "source": [
        "\\begin{align}\n",
        "C_{m,V} &= \\dfrac{d U}{d T}\\\\\n",
        "U = \\cancelto{0}{U_0} + C_{m,V} T\n",
        "\\end{align}"
      ],
      "metadata": {
        "id": "pJJrucHizn4L"
      }
    },
    {
      "cell_type": "markdown",
      "source": [
        "### 定圧(モル)比熱"
      ],
      "metadata": {
        "id": "mB8XoExlzmUi"
      }
    },
    {
      "cell_type": "markdown",
      "source": [
        "$dp=0, n=1$\n",
        "\\begin{align}\n",
        "d'Q &= \\cancelto{\\frac{dU}{dT}=C_{m,V}}{\\left(\\dfrac{\\partial U}{\\partial T}\\right)_V} dT\n",
        "+\n",
        "\\left[ p +\\left(\\dfrac{\\partial U}{\\partial V}\\right)_T \\right] {dV}\\\\\n",
        "C_{m,p} &= \\left(\\dfrac{d'Q}{dT}\\right)_p = C_{m,V} +\n",
        "\\left[ p +\\left(\\dfrac{\\partial U}{\\partial V}\\right)_T \\right]\n",
        "\\left(\n",
        "  \\dfrac{\\partial V}{\\partial T}\n",
        "\\right)_p\n",
        "\\end{align}"
      ],
      "metadata": {
        "id": "ETmzE5Efz_Y_"
      }
    },
    {
      "cell_type": "markdown",
      "source": [
        "### $U=U'(T,p)$"
      ],
      "metadata": {
        "id": "r0dWQMC41DOA"
      }
    },
    {
      "cell_type": "markdown",
      "source": [
        "\\begin{align}\n",
        "&f(p,V,T) =0 \\qquad\n",
        "\\begin{cases}\n",
        "d'W \\sim W=W(p,\\bcancel{V})\\\\\n",
        "d'W \\sim Q=Q(\\bcancel{*},T)\n",
        "\\end{cases}\\\\[5mm]\n",
        "&\\begin{cases}\n",
        "U &= U'(T,p)\\\\\n",
        "dU' &= d'W + d'Q = - p dV + d'Q\n",
        "\\end{cases}\\\\[5mm]\n",
        "d'Q &= \n",
        "\\left(\\dfrac{\\partial U'}{\\partial T}\\right)_p dT\n",
        "+\n",
        "\\left(\\dfrac{\\partial U'}{\\partial p}\\right)_T \\cancelto{0}{dp}\n",
        "+\n",
        "p dV\\\\[7mm]\n",
        "C_p &= \\left(\\dfrac{\\partial U}{\\partial T}\\right)_p + p \\left(\\dfrac{\\partial V}{\\partial T}\\right)_p \n",
        "\\end{align}"
      ],
      "metadata": {
        "id": "T336BAM_o_zU"
      }
    },
    {
      "cell_type": "markdown",
      "source": [
        "#### [例題2] \n",
        "\\begin{align}\n",
        "&\\begin{cases}\n",
        "V=V(T,p)\\\\\n",
        "U=U(T,V)\n",
        "\\end{cases} \\\\\n",
        "dU &=\n",
        "\\left(\\dfrac{\\partial U}{\\partial T}\\right)_V dT\n",
        "+\n",
        "\\left(\\dfrac{\\partial U}{\\partial V}\\right)_T dV\\\\\n",
        "&=\n",
        "\\left(\\dfrac{\\partial U}{\\partial T}\\right)_V dT\n",
        "+\n",
        "\\left(\\dfrac{\\partial U}{\\partial V}\\right)_T\n",
        "\\left[\n",
        "\\left(\\dfrac{\\partial V}{\\partial T}\\right)_p dT\n",
        "+\n",
        "\\left(\\dfrac{\\partial V}{\\partial p}\\right)_T dp\n",
        "\\right]\\\\\n",
        "&=\n",
        "\\begin{cases}\n",
        "\\left(\\dfrac{\\partial U}{\\partial T}\\right)_V dT\n",
        "+\n",
        "\\left(\\dfrac{\\partial U}{\\partial V}\\right)_T\n",
        "\\left[\n",
        "\\left(\\dfrac{\\partial V}{\\partial T}\\right)_p dT\n",
        "+\n",
        "\\left(\\dfrac{\\partial V}{\\partial p}\\right)_T \\cancelto{0}{dp}\n",
        "\\right]\n",
        "%\n",
        "\\xrightarrow{dp = 0} \n",
        "\\left(\\dfrac{\\partial U}{\\partial T}\\right)_p\n",
        " =  \\left(\\dfrac{\\partial U}{\\partial T}\\right)_V\n",
        "    + \\left(\\dfrac{\\partial U}{\\partial V}\\right)_T\\left(\\dfrac{\\partial V}{\\partial T}\\right)_p\n",
        "\\\\\n",
        "%\n",
        "\\left(\\dfrac{\\partial U}{\\partial T}\\right)_V \\cancelto{0}{dT}\n",
        "+\n",
        "\\left(\\dfrac{\\partial U}{\\partial V}\\right)_T\n",
        "\\left[\n",
        "\\left(\\dfrac{\\partial V}{\\partial T}\\right)_p \\cancelto{0}{dT}\n",
        "+\n",
        "\\left(\\dfrac{\\partial V}{\\partial p}\\right)_T dp\n",
        "\\right]\n",
        "\\xrightarrow{dT = 0} \n",
        "\\left(\\dfrac{\\partial U}{\\partial p}\\right)_T\n",
        "= \\left(\\dfrac{\\partial U}{\\partial V}\\right)_T\n",
        "\\left(\\dfrac{\\partial V}{\\partial p}\\right)_T\n",
        "  %\n",
        "\\end{cases}\n",
        "\\end{align}"
      ],
      "metadata": {
        "id": "5FN1n3oXqZO6"
      }
    },
    {
      "cell_type": "markdown",
      "source": [
        "#### [例題3]\n",
        "\\begin{align}\n",
        "&\\left(\\dfrac{\\partial U}{\\partial T}\\right)_p\n",
        " =  \\cancelto{C_V}{\\left(\\dfrac{\\partial U}{\\partial T}\\right)_V}\n",
        "    + \\left(\\dfrac{\\partial U}{\\partial V}\\right)_T\\left(\\dfrac{\\partial V}{\\partial T}\\right)_p\\\\\n",
        "%\n",
        "C_p \n",
        "&= \\left(\\dfrac{\\partial U}{\\partial T}\\right)_p + p \\left(\\dfrac{\\partial V}{\\partial T}\\right)_p \\\\[2mm]\n",
        "&= C_V\n",
        " + \\left(\\dfrac{\\partial U}{\\partial V}\\right)_T\\left(\\dfrac{\\partial V}{\\partial T}\\right)_p\n",
        " + p \\left(\\dfrac{\\partial V}{\\partial T}\\right)_p \\\\[2mm]\n",
        "&= C_V + \\left[ \\left(\\dfrac{\\partial U}{\\partial V}\\right)_T + p\\right]\n",
        "\\left(\n",
        "  \\dfrac{\\partial V}{\\partial T}\n",
        "\\right)_p\n",
        "\\end{align}"
      ],
      "metadata": {
        "id": "ksK0RyrhtoGR"
      }
    },
    {
      "cell_type": "markdown",
      "source": [
        "## 断熱変化\n"
      ],
      "metadata": {
        "id": "eLreYyVdmVed"
      }
    },
    {
      "cell_type": "markdown",
      "source": [
        "$d'Q=0$\n",
        "\\begin{align}\n",
        "\\cancelto{0}{d'Q} &= \\left(\\dfrac{\\partial U}{\\partial T}\\right)_V dT\n",
        "+\n",
        "\\left[ p +\\left(\\dfrac{\\partial U}{\\partial V}\\right)_T \\right] dV\\\\[3mm]\n",
        "Q &= Q(T,V) = const. \\to \\dfrac{dV}{dT} = f(T,V)\n",
        "\\end{align}"
      ],
      "metadata": {
        "id": "5HiQOt6fvFRH"
      }
    },
    {
      "cell_type": "markdown",
      "source": [
        "In case of ideal gas $PV=RT$;\n",
        "$d'Q=0$\n",
        "\\begin{align}\n",
        "\\left(\\dfrac{\\partial U}{\\partial T}\\right)_V dT\n",
        "+\n",
        "\\left[ p +\\cancelto{0}{\\left(\\dfrac{\\partial U}{\\partial V}\\right)_T} \\right] dV\n",
        " &= 0\n",
        "\\\\[2mm]\n",
        "C_V dT + \\cancelto{\\frac{RT}{V}}{p} dV &= 0\\\\[2mm]\n",
        "C_V \\dfrac{dT}{T} + R \\dfrac{dV}{V} &= 0\\\\\n",
        "\\begin{cases}\n",
        "C_p - C_V = R\\\\\n",
        "\\gamma = \\dfrac{C_p}{C_V} > 1\n",
        "\\end{cases}\\\\[5mm]\n",
        "\\dfrac{dT}{T} + \\left(\\gamma -1 \\right) \\dfrac{dV}{V} &= 0\\\\[3mm]\n",
        "\\int_{init}^{fin} \\dfrac{dT}{T} \n",
        "+ \\int_{init}^{fin} \\left(\\gamma -1 \\right) \\dfrac{dV}{V} \n",
        "&= 0\\\\\n",
        "\\ln T + \\left(\\gamma -1 \\right) \\ln V = const.\\\\[5mm]\n",
        "T V^{\\gamma -1} = const \n",
        "\\xrightarrow{T = pV/R}\n",
        "pV^\\gamma = const\n",
        "\\end{align}"
      ],
      "metadata": {
        "id": "zQbuRHbhwdKN"
      }
    },
    {
      "cell_type": "code",
      "metadata": {
        "id": "GfXN46wiTqIk",
        "cellView": "form",
        "colab": {
          "base_uri": "https://localhost:8080/",
          "height": 336
        },
        "outputId": "3fadb2e4-015a-403a-c49f-2f376b1f4be9"
      },
      "source": [
        "#@title ポアッソンの状態方程式を利用した圧縮発火実験\n",
        "%%html\n",
        "<iframe width=\"560\" height=\"315\" src=\"https://www.youtube-nocookie.com/embed/4qe1Ueifekg\" frameborder=\"0\" allow=\"accelerometer; autoplay; encrypted-media; gyroscope; picture-in-picture\" allowfullscreen></iframe>"
      ],
      "execution_count": null,
      "outputs": [
        {
          "output_type": "display_data",
          "data": {
            "text/html": [
              "<iframe width=\"560\" height=\"315\" src=\"https://www.youtube-nocookie.com/embed/4qe1Ueifekg\" frameborder=\"0\" allow=\"accelerometer; autoplay; encrypted-media; gyroscope; picture-in-picture\" allowfullscreen></iframe>"
            ],
            "text/plain": [
              "<IPython.core.display.HTML object>"
            ]
          },
          "metadata": {
            "tags": []
          }
        }
      ]
    },
    {
      "cell_type": "code",
      "metadata": {
        "id": "8HiPQBw70Gpf",
        "cellView": "form",
        "colab": {
          "base_uri": "https://localhost:8080/",
          "height": 302
        },
        "outputId": "28c86b30-2b0c-465b-bc1e-b882a5fc4a36"
      },
      "source": [
        "#@title 断熱変化と等温変化の関係\n",
        "%matplotlib inline\n",
        "\n",
        "import matplotlib.pyplot as plt\n",
        "import numpy as np\n",
        "\n",
        "x = np.linspace(0.001, 15, 50)\n",
        "\n",
        "fig = plt.figure()\n",
        "ax = fig.add_subplot(111)\n",
        "ax.set_ylabel('P [Pa]')\n",
        "ax.set_xlabel('V [m$^3$]')\n",
        "\n",
        "plt.xlim([0,15])\n",
        "plt.ylim([0,15])\n",
        "\n",
        "ax.set_aspect('equal', adjustable='box')\n",
        "\n",
        "plt.plot(x, 10/x, '--', color=\"b\")\n",
        "plt.plot(x, 2*10/x, '--', color=\"r\")\n",
        "\n",
        "plt.plot(x, 3*10/x**(1.67), '-', color=\"g\")"
      ],
      "execution_count": null,
      "outputs": [
        {
          "output_type": "execute_result",
          "data": {
            "text/plain": [
              "[<matplotlib.lines.Line2D at 0x7f5e894e12e8>]"
            ]
          },
          "metadata": {
            "tags": []
          },
          "execution_count": 12
        },
        {
          "output_type": "display_data",
          "data": {
            "image/png": "[encoded data removed]",
            "text/plain": [
              "<Figure size 432x288 with 1 Axes>"
            ]
          },
          "metadata": {
            "tags": [],
            "needs_background": "light"
          }
        }
      ]
    },
    {
      "cell_type": "markdown",
      "source": [
        "## カルノーサイクル"
      ],
      "metadata": {
        "id": "oPDfiaYsmXfI"
      }
    },
    {
      "cell_type": "markdown",
      "metadata": {
        "id": "lF5MSdlSajTt"
      },
      "source": [
        "### カルノーサイクルの構成\n",
        "\n",
        "1. 高温(High)と低温(Low)の等温変化\n",
        "  - $\\color{#FF0000}{T_{\\rm H}} > \\color{#0000FF}T_{\\rm L}$\n",
        "    - $\\color{#FF0000}{\\Delta T_{\\rm H}}=0$\n",
        "    - $\\color{#0000FF}{\\Delta T_{\\rm L}}=0$\n",
        "    \n",
        "2. それを往復する断熱変化\n",
        "  - $p_{\\rm A}V_{\\rm A}^\\gamma < \\color{green}{p_{\\rm C}V_{\\rm C}^\\gamma}$\n",
        "    - $p_{\\rm D}V_{\\rm D}^\\gamma = p_{\\rm A}V_{\\rm A}^\\gamma$  \n",
        "    - $\\color{green}{p_{\\rm B}V_{\\rm B}^\\gamma = p_{\\rm C}V_{\\rm C}^\\gamma}$"
      ]
    },
    {
      "cell_type": "code",
      "metadata": {
        "id": "Di_63ShGRY7U",
        "cellView": "form",
        "colab": {
          "base_uri": "https://localhost:8080/",
          "height": 336
        },
        "outputId": "7ed2dc90-f2e6-4f64-a1ae-d7016d5438ad"
      },
      "source": [
        "#@title カルノーサイクルの動画(その1)\n",
        "%%html\n",
        "<iframe width=\"560\" height=\"315\" src=\"https://www.youtube-nocookie.com/embed/s3N_QJVucF8\" frameborder=\"0\" allow=\"accelerometer; autoplay; encrypted-media; gyroscope; picture-in-picture\" allowfullscreen></iframe>"
      ],
      "execution_count": null,
      "outputs": [
        {
          "output_type": "display_data",
          "data": {
            "text/html": [
              "<iframe width=\"560\" height=\"315\" src=\"https://www.youtube-nocookie.com/embed/s3N_QJVucF8\" frameborder=\"0\" allow=\"accelerometer; autoplay; encrypted-media; gyroscope; picture-in-picture\" allowfullscreen></iframe>"
            ],
            "text/plain": [
              "<IPython.core.display.HTML object>"
            ]
          },
          "metadata": {
            "tags": []
          }
        }
      ]
    },
    {
      "cell_type": "markdown",
      "metadata": {
        "id": "8YbhXP_Se9Nu"
      },
      "source": [
        "#### 4つの過程\n",
        "\n",
        "ピストンに閉じ込めた気体は $n{\\rm \\ mol}$ とする. (教科書では$n=1$)\n",
        "\n",
        "\n",
        "<!--\n",
        "<img src=\"https://upload.wikimedia.org/wikipedia/commons/0/0d/Carnot-cycle.jpg\" data-canonical-src=\"https://pt.wikipedia.org/wiki/Ciclo_de_Carnot\" width=\"400\" /\n",
        "![https://ru.wikipedia.org/wiki/%D0%A6%D0%B8%D0%BA%D0%BB_%D0%9A%D0%B0%D1%80%D0%BD%D0%BE](https://upload.wikimedia.org/wikipedia/commons/c/c4/%D0%A6%D0%B8%D0%BA%D0%BB_%D0%9A%D0%B0%D1%80%D0%BD%D0%BE_%D0%BD%D0%B0_%D1%82%D0%B5%D1%80%D0%BC%D0%BE%D0%B4%D0%B8%D0%BD%D0%B0%D0%BC%D0%B8%D1%87%D0%B5%D1%81%D0%BA%D0%BE%D0%B9_%D0%BF%D0%BE%D0%B2%D0%B5%D1%80%D1%85%D0%BD%D0%BE%D1%81%D1%82%D0%B8_%D0%B8%D0%B4%D0%B5%D0%B0%D0%BB%D1%8C%D0%BD%D0%BE%D0%B3%D0%BE_%D0%B3%D0%B0%D0%B7%D0%B0.png)-->\n",
        "\n",
        "- 系は,  **摩擦の影響なく** なめらかに動くピストン\n",
        "  - 閉じ込められた気体は、(単原子)理想気体\n",
        "- 正サイクル:: A $\\to$ B $\\to$ C $\\to$ D ($\\to$ A)\n",
        "  - 熱力学第一法則を利用\n",
        "- 系(ABCDで囲まれた領域)に対して, \n",
        "    - 時計回りを 正\n",
        "\n"
      ]
    },
    {
      "cell_type": "code",
      "metadata": {
        "id": "JznYSq9xuB4_",
        "cellView": "form",
        "colab": {
          "base_uri": "https://localhost:8080/",
          "height": 527
        },
        "outputId": "858ff154-5e84-4f0b-c0e7-6a32f5adebbd"
      },
      "source": [
        "#@title 簡略化されたカルノーサイクル\n",
        "%%svg\n",
        "<svg xmlns=\"http://www.w3.org/2000/svg\" xmlns:xlink=\"http://www.w3.org/1999/xlink\" version=\"1.1\" width=\"406px\" viewBox=\"-0.5 -0.5 406 506\" content=\"&lt;mxfile host=&quot;app.diagrams.net&quot; modified=&quot;2020-08-06T07:44:37.423Z&quot; agent=&quot;5.0 (Macintosh; Intel Mac OS X 10_10_5) AppleWebKit/537.36 (KHTML, like Gecko) Chrome/84.0.4147.105 Safari/537.36&quot; etag=&quot;vrub5moJ3pTAYwGPeD6d&quot; version=&quot;13.4.9&quot; type=&quot;google&quot;&gt;&lt;diagram id=&quot;DU0nAm4edodP-iCXRGtb&quot; name=&quot;Page-1&quot;&gt;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&lt;/diagram&gt;&lt;/mxfile&gt;\" onclick=\"(function(svg){var src=window.event.target||window.event.srcElement;while (src!=null&amp;&amp;src.nodeName.toLowerCase()!='a'){src=src.parentNode;}if(src==null){if(svg.wnd!=null&amp;&amp;!svg.wnd.closed){svg.wnd.focus();}else{var r=function(evt){if(evt.data=='ready'&amp;&amp;evt.source==svg.wnd){svg.wnd.postMessage(decodeURIComponent(svg.getAttribute('content')),'*');window.removeEventListener('message',r);}};window.addEventListener('message',r);svg.wnd=window.open('https://viewer.diagrams.net/?client=1&amp;edit=_blank');}}})(this);\" style=\"cursor:pointer;max-width:100%;max-height:506px;\"><defs/><g><path d=\"M 7 457 L 390.63 457\" fill=\"none\" stroke=\"#000000\" stroke-miterlimit=\"10\" pointer-events=\"stroke\"/><path d=\"M 395.88 457 L 388.88 460.5 L 390.63 457 L 388.88 453.5 Z\" fill=\"#000000\" stroke=\"#000000\" stroke-miterlimit=\"10\" pointer-events=\"all\"/><g transform=\"translate(-0.5 -0.5)\"><switch><foreignObject style=\"overflow: visible; text-align: left;\" pointer-events=\"none\" width=\"100%\" height=\"100%\" requiredFeatures=\"http://www.w3.org/TR/SVG11/feature#Extensibility\"><div xmlns=\"http://www.w3.org/1999/xhtml\" style=\"display: flex; align-items: unsafe center; justify-content: unsafe center; width: 1px; height: 1px; padding-top: 468px; margin-left: 378px;\"><div style=\"box-sizing: border-box; font-size: 0; text-align: center; \"><div style=\"display: inline-block; font-size: 18px; font-family: Georgia; color: #000000; line-height: 1.2; pointer-events: all; background-color: #ffffff; white-space: nowrap; \"><i>V</i></div></div></div></foreignObject><text x=\"378\" y=\"473\" fill=\"#000000\" font-family=\"Georgia\" font-size=\"18px\" text-anchor=\"middle\">V</text></switch></g><path d=\"M 47 497 L 47 13.37\" fill=\"none\" stroke=\"#000000\" stroke-miterlimit=\"10\" pointer-events=\"stroke\"/><path d=\"M 47 8.12 L 50.5 15.12 L 47 13.37 L 43.5 15.12 Z\" fill=\"#000000\" stroke=\"#000000\" stroke-miterlimit=\"10\" pointer-events=\"all\"/><g transform=\"translate(-0.5 -0.5)\"><switch><foreignObject style=\"overflow: visible; text-align: left;\" pointer-events=\"none\" width=\"100%\" height=\"100%\" requiredFeatures=\"http://www.w3.org/TR/SVG11/feature#Extensibility\"><div xmlns=\"http://www.w3.org/1999/xhtml\" style=\"display: flex; align-items: unsafe center; justify-content: unsafe center; width: 1px; height: 1px; padding-top: 38px; margin-left: 38px;\"><div style=\"box-sizing: border-box; font-size: 0; text-align: center; \"><div style=\"display: inline-block; font-size: 18px; font-family: Georgia; color: #000000; line-height: 1.2; pointer-events: all; font-style: italic; background-color: #ffffff; white-space: nowrap; \">P</div></div></div></foreignObject><text x=\"38\" y=\"43\" fill=\"#000000\" font-family=\"Georgia\" font-size=\"18px\" text-anchor=\"middle\" font-style=\"italic\">P</text></switch></g><path d=\"M 337 247 Q 107 247 107 57\" fill=\"none\" stroke=\"#ff0000\" stroke-width=\"2\" stroke-miterlimit=\"10\" pointer-events=\"stroke\"/><g transform=\"translate(-0.5 -0.5)\"><switch><foreignObject style=\"overflow: visible; text-align: left;\" pointer-events=\"none\" width=\"100%\" height=\"100%\" requiredFeatures=\"http://www.w3.org/TR/SVG11/feature#Extensibility\"><div xmlns=\"http://www.w3.org/1999/xhtml\" style=\"display: flex; align-items: unsafe center; justify-content: unsafe center; width: 1px; height: 1px; padding-top: 38px; margin-left: 108px;\"><div style=\"box-sizing: border-box; font-size: 0; text-align: center; \"><div style=\"display: inline-block; font-size: 11px; font-family: Helvetica; color: #000000; line-height: 1.2; pointer-events: all; background-color: #ffffff; white-space: nowrap; \"><font style=\"font-size: 24px\" color=\"#ff0000\">Δ<i>T</i><sub>2</sub>=0</font></div></div></div></foreignObject><text x=\"108\" y=\"41\" fill=\"#000000\" font-family=\"Helvetica\" font-size=\"11px\" text-anchor=\"middle\">ΔT2=0</text></switch></g><path d=\"M 377 377 Q 67 377 67 147\" fill=\"none\" stroke=\"#0000ff\" stroke-width=\"2\" stroke-miterlimit=\"10\" pointer-events=\"stroke\"/><g transform=\"translate(-0.5 -0.5)\"><switch><foreignObject style=\"overflow: visible; text-align: left;\" pointer-events=\"none\" width=\"100%\" height=\"100%\" requiredFeatures=\"http://www.w3.org/TR/SVG11/feature#Extensibility\"><div xmlns=\"http://www.w3.org/1999/xhtml\" style=\"display: flex; align-items: unsafe center; justify-content: unsafe center; width: 1px; height: 1px; padding-top: 328px; margin-left: 88px;\"><div style=\"box-sizing: border-box; font-size: 0; text-align: center; \"><div style=\"display: inline-block; font-size: 11px; font-family: Helvetica; color: #000000; line-height: 1.2; pointer-events: all; white-space: nowrap; \"><font style=\"font-size: 24px\" color=\"#0000ff\">Δ<i>T</i><sub>1</sub>=0</font></div></div></div></foreignObject><text x=\"88\" y=\"331\" fill=\"#000000\" font-family=\"Helvetica\" font-size=\"11px\" text-anchor=\"middle\">ΔT1=0</text></switch></g><path d=\"M 197 387 Q 127 387 127 117\" fill=\"none\" stroke=\"#000000\" stroke-width=\"2\" stroke-miterlimit=\"10\" stroke-dasharray=\"6 6\" pointer-events=\"stroke\"/><g transform=\"translate(-0.5 -0.5)\"><switch><foreignObject style=\"overflow: visible; text-align: left;\" pointer-events=\"none\" width=\"100%\" height=\"100%\" requiredFeatures=\"http://www.w3.org/TR/SVG11/feature#Extensibility\"><div xmlns=\"http://www.w3.org/1999/xhtml\" style=\"display: flex; align-items: unsafe center; justify-content: unsafe center; width: 1px; height: 1px; padding-top: 158px; margin-left: 98px;\"><div style=\"box-sizing: border-box; font-size: 0; text-align: center; \"><div style=\"display: inline-block; font-size: 11px; font-family: Helvetica; color: #000000; line-height: 1.2; pointer-events: all; background-color: #ffffff; white-space: nowrap; \"><font style=\"font-size: 18px\">Δ<i>Q</i>=0</font></div></div></div></foreignObject><text x=\"98\" y=\"161\" fill=\"#000000\" font-family=\"Helvetica\" font-size=\"11px\" text-anchor=\"middle\">ΔQ=0</text></switch></g><path d=\"M 367 417 Q 287 417 287 157\" fill=\"none\" stroke=\"#4d9900\" stroke-width=\"2\" stroke-miterlimit=\"10\" stroke-dasharray=\"6 6\" pointer-events=\"stroke\"/><g transform=\"translate(-0.5 -0.5)\"><switch><foreignObject style=\"overflow: visible; text-align: left;\" pointer-events=\"none\" width=\"100%\" height=\"100%\" requiredFeatures=\"http://www.w3.org/TR/SVG11/feature#Extensibility\"><div xmlns=\"http://www.w3.org/1999/xhtml\" style=\"display: flex; align-items: unsafe center; justify-content: unsafe center; width: 1px; height: 1px; padding-top: 348px; margin-left: 348px;\"><div style=\"box-sizing: border-box; font-size: 0; text-align: center; \"><div style=\"display: inline-block; font-size: 11px; font-family: Helvetica; color: #000000; line-height: 1.2; pointer-events: all; background-color: #ffffff; white-space: nowrap; \"><font color=\"#4d9900\"><span style=\"font-size: 18px\">Δ</span><i style=\"font-size: 18px\">Q</i><span style=\"font-size: 18px\">=0</span></font></div></div></div></foreignObject><text x=\"348\" y=\"351\" fill=\"#000000\" font-family=\"Helvetica\" font-size=\"11px\" text-anchor=\"middle\">ΔQ=0</text></switch></g><path d=\"M 160.6 104.42 L 232.7 131.45 L 219.55 166.5 L 235 172.29 L 167.35 196.06 L 132.01 133.67 L 147.46 139.46 Z\" fill=\"none\" stroke=\"#ff0000\" stroke-width=\"2\" stroke-linejoin=\"round\" stroke-miterlimit=\"10\" pointer-events=\"all\"/><g transform=\"translate(-0.5 -0.5)\"><switch><foreignObject style=\"overflow: visible; text-align: left;\" pointer-events=\"none\" width=\"100%\" height=\"100%\" requiredFeatures=\"http://www.w3.org/TR/SVG11/feature#Extensibility\"><div xmlns=\"http://www.w3.org/1999/xhtml\" style=\"display: flex; align-items: unsafe center; justify-content: unsafe center; width: 1px; height: 1px; padding-top: 157px; margin-left: 182px;\"><div style=\"box-sizing: border-box; font-size: 0; text-align: center; \"><div style=\"display: inline-block; font-size: 11px; font-family: Helvetica; color: #000000; line-height: 1.2; pointer-events: all; white-space: nowrap; \"><font color=\"#ff0000\" style=\"font-size: 24px\">ΔQ<sub>2</sub></font></div></div></div></foreignObject><text x=\"182\" y=\"161\" fill=\"#000000\" font-family=\"Helvetica\" font-size=\"11px\" text-anchor=\"middle\">ΔQ2</text></switch></g><path d=\"M 263.66 374.12 L 310.02 381.85 L 303.6 420.36 L 314.45 422.16 L 277.16 436.01 L 246.39 410.82 L 257.24 412.63 Z\" fill=\"none\" stroke=\"#0000cc\" stroke-width=\"2\" stroke-linejoin=\"round\" stroke-miterlimit=\"10\" pointer-events=\"all\"/><g transform=\"translate(-0.5 -0.5)\"><switch><foreignObject style=\"overflow: visible; text-align: left;\" pointer-events=\"none\" width=\"100%\" height=\"100%\" requiredFeatures=\"http://www.w3.org/TR/SVG11/feature#Extensibility\"><div xmlns=\"http://www.w3.org/1999/xhtml\" style=\"display: flex; align-items: unsafe center; justify-content: unsafe center; width: 1px; height: 1px; padding-top: 407px; margin-left: 282px;\"><div style=\"box-sizing: border-box; font-size: 0; text-align: center; \"><div style=\"display: inline-block; font-size: 11px; font-family: Helvetica; color: #0000CC; line-height: 1.2; pointer-events: all; white-space: nowrap; \"><font style=\"font-size: 24px\">ΔQ<sub>1</sub></font></div></div></div></foreignObject><text x=\"282\" y=\"410\" fill=\"#0000CC\" font-family=\"Helvetica\" font-size=\"11px\" text-anchor=\"middle\">ΔQ1</text></switch></g><path d=\"M 296.56 300.03 L 299.43 274.19 L 359.96 280.92 L 361.18 269.98 L 386.01 296.89 L 355.87 317.69 L 357.09 306.76 Z\" fill=\"#ffff00\" stroke=\"#000000\" stroke-width=\"2\" stroke-linejoin=\"round\" stroke-miterlimit=\"10\" pointer-events=\"all\"/><g transform=\"translate(-0.5 -0.5)\"><switch><foreignObject style=\"overflow: visible; text-align: left;\" pointer-events=\"none\" width=\"100%\" height=\"100%\" requiredFeatures=\"http://www.w3.org/TR/SVG11/feature#Extensibility\"><div xmlns=\"http://www.w3.org/1999/xhtml\" style=\"display: flex; align-items: unsafe center; justify-content: unsafe center; width: 1px; height: 1px; padding-top: 290px; margin-left: 337px;\"><div style=\"box-sizing: border-box; font-size: 0; text-align: center; \"><div style=\"display: inline-block; font-size: 18px; font-family: Georgia; color: #0000CC; line-height: 1.2; pointer-events: all; white-space: nowrap; \"><span style=\"color: rgb(0 , 0 , 0) ; font-size: 14px\">Δ</span><i style=\"color: rgb(0 , 0 , 0) ; font-size: 14px\">W</i><sub style=\"color: rgb(0 , 0 , 0)\"><font style=\"font-size: 12px\">BC</font></sub></div></div></div></foreignObject><text x=\"337\" y=\"295\" fill=\"#0000CC\" font-family=\"Georgia\" font-size=\"18px\" text-anchor=\"middle\">ΔWBC</text></switch></g><path d=\"M 242.08 228.61 L 213.22 203.88 L 250.75 160.1 L 242.39 152.94 L 286.35 147.76 L 287.95 191.99 L 279.6 184.83 Z\" fill=\"#ffff00\" stroke=\"#000000\" stroke-width=\"2\" stroke-linejoin=\"round\" stroke-miterlimit=\"10\" pointer-events=\"all\"/><g transform=\"translate(-0.5 -0.5)\"><switch><foreignObject style=\"overflow: visible; text-align: left;\" pointer-events=\"none\" width=\"100%\" height=\"100%\" requiredFeatures=\"http://www.w3.org/TR/SVG11/feature#Extensibility\"><div xmlns=\"http://www.w3.org/1999/xhtml\" style=\"display: flex; align-items: unsafe center; justify-content: unsafe center; width: 1px; height: 1px; padding-top: 191px; margin-left: 246px;\"><div style=\"box-sizing: border-box; font-size: 0; text-align: center; \"><div style=\"display: inline-block; font-size: 18px; font-family: Georgia; color: #0000CC; line-height: 1.2; pointer-events: all; white-space: nowrap; \"><font color=\"#000000\" style=\"font-size: 14px\">Δ<i>W</i><sub>AB</sub></font></div></div></div></foreignObject><text x=\"246\" y=\"197\" fill=\"#0000CC\" font-family=\"Georgia\" font-size=\"18px\" text-anchor=\"middle\">ΔWAB</text></switch></g><path d=\"M 227.99 413.61 L 186.33 399.44 L 194.83 374.46 L 184.89 371.08 L 223.84 357.47 L 246.43 392 L 236.49 388.62 Z\" fill=\"#ffff00\" stroke=\"#000000\" stroke-linejoin=\"round\" stroke-miterlimit=\"10\" pointer-events=\"all\"/><g transform=\"translate(-0.5 -0.5)\"><switch><foreignObject style=\"overflow: visible; text-align: left;\" pointer-events=\"none\" width=\"100%\" height=\"100%\" requiredFeatures=\"http://www.w3.org/TR/SVG11/feature#Extensibility\"><div xmlns=\"http://www.w3.org/1999/xhtml\" style=\"display: flex; align-items: unsafe center; justify-content: unsafe center; width: 1px; height: 1px; padding-top: 387px; margin-left: 214px;\"><div style=\"box-sizing: border-box; font-size: 0; text-align: center; \"><div style=\"display: inline-block; font-size: 18px; font-family: Georgia; color: #0000CC; line-height: 1.2; pointer-events: all; white-space: nowrap; \"><span style=\"color: rgb(0 , 0 , 0) ; font-size: 14px\">Δ</span><i style=\"color: rgb(0 , 0 , 0) ; font-size: 14px\">W</i><span style=\"color: rgb(0 , 0 , 0) ; font-size: 14px\"><sub>CD</sub></span></div></div></div></foreignObject><text x=\"214\" y=\"393\" fill=\"#0000CC\" font-family=\"Georgia\" font-size=\"18px\" text-anchor=\"middle\">ΔWCD</text></switch></g><path d=\"M 72.82 208.79 L 82.11 185.58 L 106.43 195.31 L 110.33 185.56 L 126.54 216.81 L 93.25 228.27 L 97.15 218.52 Z\" fill=\"#ffff00\" stroke=\"#000000\" stroke-linejoin=\"round\" stroke-miterlimit=\"10\" pointer-events=\"all\"/><g transform=\"translate(-0.5 -0.5)\"><switch><foreignObject style=\"overflow: visible; text-align: left;\" pointer-events=\"none\" width=\"100%\" height=\"100%\" requiredFeatures=\"http://www.w3.org/TR/SVG11/feature#Extensibility\"><div xmlns=\"http://www.w3.org/1999/xhtml\" style=\"display: flex; align-items: unsafe center; justify-content: unsafe center; width: 1px; height: 1px; padding-top: 203px; margin-left: 95px;\"><div style=\"box-sizing: border-box; font-size: 0; text-align: center; \"><div style=\"display: inline-block; font-size: 18px; font-family: Georgia; color: #0000CC; line-height: 1.2; pointer-events: all; white-space: nowrap; \"><span style=\"color: rgb(0 , 0 , 0) ; font-size: 14px\">Δ</span><i style=\"color: rgb(0 , 0 , 0) ; font-size: 14px\">W</i><span style=\"color: rgb(0 , 0 , 0) ; font-size: 14px\"><sub>DA</sub></span></div></div></div></foreignObject><text x=\"95\" y=\"209\" fill=\"#0000CC\" font-family=\"Georgia\" font-size=\"18px\" text-anchor=\"middle\">ΔWDA</text></switch></g><rect x=\"127\" y=\"187\" width=\"30\" height=\"30\" fill=\"none\" stroke=\"none\" pointer-events=\"all\"/><g transform=\"translate(-0.5 -0.5)\"><switch><foreignObject style=\"overflow: visible; text-align: left;\" pointer-events=\"none\" width=\"100%\" height=\"100%\" requiredFeatures=\"http://www.w3.org/TR/SVG11/feature#Extensibility\"><div xmlns=\"http://www.w3.org/1999/xhtml\" style=\"display: flex; align-items: unsafe center; justify-content: unsafe center; width: 1px; height: 1px; padding-top: 202px; margin-left: 142px;\"><div style=\"box-sizing: border-box; font-size: 0; text-align: center; \"><div style=\"display: inline-block; font-size: 18px; font-family: Georgia; color: #0000CC; line-height: 1.2; pointer-events: all; white-space: nowrap; \"><font color=\"#000000\">A</font></div></div></div></foreignObject><text x=\"142\" y=\"207\" fill=\"#0000CC\" font-family=\"Georgia\" font-size=\"18px\" text-anchor=\"middle\">A</text></switch></g><rect x=\"257\" y=\"247\" width=\"30\" height=\"30\" fill=\"none\" stroke=\"none\" pointer-events=\"all\"/><g transform=\"translate(-0.5 -0.5)\"><switch><foreignObject style=\"overflow: visible; text-align: left;\" pointer-events=\"none\" width=\"100%\" height=\"100%\" requiredFeatures=\"http://www.w3.org/TR/SVG11/feature#Extensibility\"><div xmlns=\"http://www.w3.org/1999/xhtml\" style=\"display: flex; align-items: unsafe center; justify-content: unsafe center; width: 1px; height: 1px; padding-top: 262px; margin-left: 272px;\"><div style=\"box-sizing: border-box; font-size: 0; text-align: center; \"><div style=\"display: inline-block; font-size: 18px; font-family: Georgia; color: #0000CC; line-height: 1.2; pointer-events: all; white-space: nowrap; \"><font color=\"#000000\">B</font></div></div></div></foreignObject><text x=\"272\" y=\"267\" fill=\"#0000CC\" font-family=\"Georgia\" font-size=\"18px\" text-anchor=\"middle\">B</text></switch></g><rect x=\"267\" y=\"337\" width=\"30\" height=\"30\" fill=\"none\" stroke=\"none\" pointer-events=\"all\"/><g transform=\"translate(-0.5 -0.5)\"><switch><foreignObject style=\"overflow: visible; text-align: left;\" pointer-events=\"none\" width=\"100%\" height=\"100%\" requiredFeatures=\"http://www.w3.org/TR/SVG11/feature#Extensibility\"><div xmlns=\"http://www.w3.org/1999/xhtml\" style=\"display: flex; align-items: unsafe center; justify-content: unsafe center; width: 1px; height: 1px; padding-top: 352px; margin-left: 282px;\"><div style=\"box-sizing: border-box; font-size: 0; text-align: center; \"><div style=\"display: inline-block; font-size: 18px; font-family: Georgia; color: #0000CC; line-height: 1.2; pointer-events: all; white-space: nowrap; \"><font color=\"#000000\">C</font></div></div></div></foreignObject><text x=\"282\" y=\"357\" fill=\"#0000CC\" font-family=\"Georgia\" font-size=\"18px\" text-anchor=\"middle\">C</text></switch></g><rect x=\"147\" y=\"297\" width=\"30\" height=\"30\" fill=\"none\" stroke=\"none\" pointer-events=\"all\"/><g transform=\"translate(-0.5 -0.5)\"><switch><foreignObject style=\"overflow: visible; text-align: left;\" pointer-events=\"none\" width=\"100%\" height=\"100%\" requiredFeatures=\"http://www.w3.org/TR/SVG11/feature#Extensibility\"><div xmlns=\"http://www.w3.org/1999/xhtml\" style=\"display: flex; align-items: unsafe center; justify-content: unsafe center; width: 1px; height: 1px; padding-top: 312px; margin-left: 162px;\"><div style=\"box-sizing: border-box; font-size: 0; text-align: center; \"><div style=\"display: inline-block; font-size: 18px; font-family: Georgia; color: #0000CC; line-height: 1.2; pointer-events: all; white-space: nowrap; \"><font color=\"#000000\">D</font></div></div></div></foreignObject><text x=\"162\" y=\"317\" fill=\"#0000CC\" font-family=\"Georgia\" font-size=\"18px\" text-anchor=\"middle\">D</text></switch></g></g><switch><g requiredFeatures=\"http://www.w3.org/TR/SVG11/feature#Extensibility\"/><a transform=\"translate(0,-5)\" xlink:href=\"https://desk.draw.io/support/solutions/articles/16000042487\" target=\"_blank\"><text text-anchor=\"middle\" font-size=\"10px\" x=\"50%\" y=\"100%\">Viewer does not support full SVG 1.1</text></a></switch></svg>"
      ],
      "execution_count": null,
      "outputs": [
        {
          "output_type": "display_data",
          "data": {
            "text/plain": [
              "<IPython.core.display.SVG object>"
            ],
            "image/svg+xml": "<svg content=\"&lt;mxfile host=&quot;app.diagrams.net&quot; modified=&quot;2020-08-06T07:44:37.423Z&quot; agent=&quot;5.0 (Macintosh; Intel Mac OS X 10_10_5) AppleWebKit/537.36 (KHTML, like Gecko) Chrome/84.0.4147.105 Safari/537.36&quot; etag=&quot;vrub5moJ3pTAYwGPeD6d&quot; version=&quot;13.4.9&quot; type=&quot;google&quot;&gt;&lt;diagram id=&quot;DU0nAm4edodP-iCXRGtb&quot; name=&quot;Page-1&quot;&gt;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&lt;/diagram&gt;&lt;/mxfile&gt;\" onclick=\"(function(svg){var src=window.event.target||window.event.srcElement;while (src!=null&amp;&amp;src.nodeName.toLowerCase()!='a'){src=src.parentNode;}if(src==null){if(svg.wnd!=null&amp;&amp;!svg.wnd.closed){svg.wnd.focus();}else{var r=function(evt){if(evt.data=='ready'&amp;&amp;evt.source==svg.wnd){svg.wnd.postMessage(decodeURIComponent(svg.getAttribute('content')),'*');window.removeEventListener('message',r);}};window.addEventListener('message',r);svg.wnd=window.open('https://viewer.diagrams.net/?client=1&amp;edit=_blank');}}})(this);\" style=\"cursor:pointer;max-width:100%;max-height:506px;\" version=\"1.1\" viewBox=\"-0.5 -0.5 406 506\" width=\"406px\" xmlns=\"http://www.w3.org/2000/svg\" xmlns:xlink=\"http://www.w3.org/1999/xlink\"><defs/><g><path d=\"M 7 457 L 390.63 457\" fill=\"none\" pointer-events=\"stroke\" stroke=\"#000000\" stroke-miterlimit=\"10\"/><path d=\"M 395.88 457 L 388.88 460.5 L 390.63 457 L 388.88 453.5 Z\" fill=\"#000000\" pointer-events=\"all\" stroke=\"#000000\" stroke-miterlimit=\"10\"/><g transform=\"translate(-0.5 -0.5)\"><switch><foreignObject height=\"100%\" pointer-events=\"none\" requiredFeatures=\"http://www.w3.org/TR/SVG11/feature#Extensibility\" style=\"overflow: visible; text-align: left;\" width=\"100%\"><div style=\"display: flex; align-items: unsafe center; justify-content: unsafe center; width: 1px; height: 1px; padding-top: 468px; margin-left: 378px;\" xmlns=\"http://www.w3.org/1999/xhtml\"><div style=\"box-sizing: border-box; font-size: 0; text-align: center; \"><div style=\"display: inline-block; font-size: 18px; font-family: Georgia; color: #000000; line-height: 1.2; pointer-events: all; background-color: #ffffff; white-space: nowrap; \"><i>V</i></div></div></div></foreignObject><text fill=\"#000000\" font-family=\"Georgia\" font-size=\"18px\" text-anchor=\"middle\" x=\"378\" y=\"473\">V</text></switch></g><path d=\"M 47 497 L 47 13.37\" fill=\"none\" pointer-events=\"stroke\" stroke=\"#000000\" stroke-miterlimit=\"10\"/><path d=\"M 47 8.12 L 50.5 15.12 L 47 13.37 L 43.5 15.12 Z\" fill=\"#000000\" pointer-events=\"all\" stroke=\"#000000\" stroke-miterlimit=\"10\"/><g transform=\"translate(-0.5 -0.5)\"><switch><foreignObject height=\"100%\" pointer-events=\"none\" requiredFeatures=\"http://www.w3.org/TR/SVG11/feature#Extensibility\" style=\"overflow: visible; text-align: left;\" width=\"100%\"><div style=\"display: flex; align-items: unsafe center; justify-content: unsafe center; width: 1px; height: 1px; padding-top: 38px; margin-left: 38px;\" xmlns=\"http://www.w3.org/1999/xhtml\"><div style=\"box-sizing: border-box; font-size: 0; text-align: center; \"><div style=\"display: inline-block; font-size: 18px; font-family: Georgia; color: #000000; line-height: 1.2; pointer-events: all; font-style: italic; background-color: #ffffff; white-space: nowrap; \">P</div></div></div></foreignObject><text fill=\"#000000\" font-family=\"Georgia\" font-size=\"18px\" font-style=\"italic\" text-anchor=\"middle\" x=\"38\" y=\"43\">P</text></switch></g><path d=\"M 337 247 Q 107 247 107 57\" fill=\"none\" pointer-events=\"stroke\" stroke=\"#ff0000\" stroke-miterlimit=\"10\" stroke-width=\"2\"/><g transform=\"translate(-0.5 -0.5)\"><switch><foreignObject height=\"100%\" pointer-events=\"none\" requiredFeatures=\"http://www.w3.org/TR/SVG11/feature#Extensibility\" style=\"overflow: visible; text-align: left;\" width=\"100%\"><div style=\"display: flex; align-items: unsafe center; justify-content: unsafe center; width: 1px; height: 1px; padding-top: 38px; margin-left: 108px;\" xmlns=\"http://www.w3.org/1999/xhtml\"><div style=\"box-sizing: border-box; font-size: 0; text-align: center; \"><div style=\"display: inline-block; font-size: 11px; font-family: Helvetica; color: #000000; line-height: 1.2; pointer-events: all; background-color: #ffffff; white-space: nowrap; \"><font color=\"#ff0000\" style=\"font-size: 24px\">Δ<i>T</i><sub>2</sub>=0</font></div></div></div></foreignObject><text fill=\"#000000\" font-family=\"Helvetica\" font-size=\"11px\" text-anchor=\"middle\" x=\"108\" y=\"41\">ΔT2=0</text></switch></g><path d=\"M 377 377 Q 67 377 67 147\" fill=\"none\" pointer-events=\"stroke\" stroke=\"#0000ff\" stroke-miterlimit=\"10\" stroke-width=\"2\"/><g transform=\"translate(-0.5 -0.5)\"><switch><foreignObject height=\"100%\" pointer-events=\"none\" requiredFeatures=\"http://www.w3.org/TR/SVG11/feature#Extensibility\" style=\"overflow: visible; text-align: left;\" width=\"100%\"><div style=\"display: flex; align-items: unsafe center; justify-content: unsafe center; width: 1px; height: 1px; padding-top: 328px; margin-left: 88px;\" xmlns=\"http://www.w3.org/1999/xhtml\"><div style=\"box-sizing: border-box; font-size: 0; text-align: center; \"><div style=\"display: inline-block; font-size: 11px; font-family: Helvetica; color: #000000; line-height: 1.2; pointer-events: all; white-space: nowrap; \"><font color=\"#0000ff\" style=\"font-size: 24px\">Δ<i>T</i><sub>1</sub>=0</font></div></div></div></foreignObject><text fill=\"#000000\" font-family=\"Helvetica\" font-size=\"11px\" text-anchor=\"middle\" x=\"88\" y=\"331\">ΔT1=0</text></switch></g><path d=\"M 197 387 Q 127 387 127 117\" fill=\"none\" pointer-events=\"stroke\" stroke=\"#000000\" stroke-dasharray=\"6 6\" stroke-miterlimit=\"10\" stroke-width=\"2\"/><g transform=\"translate(-0.5 -0.5)\"><switch><foreignObject height=\"100%\" pointer-events=\"none\" requiredFeatures=\"http://www.w3.org/TR/SVG11/feature#Extensibility\" style=\"overflow: visible; text-align: left;\" width=\"100%\"><div style=\"display: flex; align-items: unsafe center; justify-content: unsafe center; width: 1px; height: 1px; padding-top: 158px; margin-left: 98px;\" xmlns=\"http://www.w3.org/1999/xhtml\"><div style=\"box-sizing: border-box; font-size: 0; text-align: center; \"><div style=\"display: inline-block; font-size: 11px; font-family: Helvetica; color: #000000; line-height: 1.2; pointer-events: all; background-color: #ffffff; white-space: nowrap; \"><font style=\"font-size: 18px\">Δ<i>Q</i>=0</font></div></div></div></foreignObject><text fill=\"#000000\" font-family=\"Helvetica\" font-size=\"11px\" text-anchor=\"middle\" x=\"98\" y=\"161\">ΔQ=0</text></switch></g><path d=\"M 367 417 Q 287 417 287 157\" fill=\"none\" pointer-events=\"stroke\" stroke=\"#4d9900\" stroke-dasharray=\"6 6\" stroke-miterlimit=\"10\" stroke-width=\"2\"/><g transform=\"translate(-0.5 -0.5)\"><switch><foreignObject height=\"100%\" pointer-events=\"none\" requiredFeatures=\"http://www.w3.org/TR/SVG11/feature#Extensibility\" style=\"overflow: visible; text-align: left;\" width=\"100%\"><div style=\"display: flex; align-items: unsafe center; justify-content: unsafe center; width: 1px; height: 1px; padding-top: 348px; margin-left: 348px;\" xmlns=\"http://www.w3.org/1999/xhtml\"><div style=\"box-sizing: border-box; font-size: 0; text-align: center; \"><div style=\"display: inline-block; font-size: 11px; font-family: Helvetica; color: #000000; line-height: 1.2; pointer-events: all; background-color: #ffffff; white-space: nowrap; \"><font color=\"#4d9900\"><span style=\"font-size: 18px\">Δ</span><i style=\"font-size: 18px\">Q</i><span style=\"font-size: 18px\">=0</span></font></div></div></div></foreignObject><text fill=\"#000000\" font-family=\"Helvetica\" font-size=\"11px\" text-anchor=\"middle\" x=\"348\" y=\"351\">ΔQ=0</text></switch></g><path d=\"M 160.6 104.42 L 232.7 131.45 L 219.55 166.5 L 235 172.29 L 167.35 196.06 L 132.01 133.67 L 147.46 139.46 Z\" fill=\"none\" pointer-events=\"all\" stroke=\"#ff0000\" stroke-linejoin=\"round\" stroke-miterlimit=\"10\" stroke-width=\"2\"/><g transform=\"translate(-0.5 -0.5)\"><switch><foreignObject height=\"100%\" pointer-events=\"none\" requiredFeatures=\"http://www.w3.org/TR/SVG11/feature#Extensibility\" style=\"overflow: visible; text-align: left;\" width=\"100%\"><div style=\"display: flex; align-items: unsafe center; justify-content: unsafe center; width: 1px; height: 1px; padding-top: 157px; margin-left: 182px;\" xmlns=\"http://www.w3.org/1999/xhtml\"><div style=\"box-sizing: border-box; font-size: 0; text-align: center; \"><div style=\"display: inline-block; font-size: 11px; font-family: Helvetica; color: #000000; line-height: 1.2; pointer-events: all; white-space: nowrap; \"><font color=\"#ff0000\" style=\"font-size: 24px\">ΔQ<sub>2</sub></font></div></div></div></foreignObject><text fill=\"#000000\" font-family=\"Helvetica\" font-size=\"11px\" text-anchor=\"middle\" x=\"182\" y=\"161\">ΔQ2</text></switch></g><path d=\"M 263.66 374.12 L 310.02 381.85 L 303.6 420.36 L 314.45 422.16 L 277.16 436.01 L 246.39 410.82 L 257.24 412.63 Z\" fill=\"none\" pointer-events=\"all\" stroke=\"#0000cc\" stroke-linejoin=\"round\" stroke-miterlimit=\"10\" stroke-width=\"2\"/><g transform=\"translate(-0.5 -0.5)\"><switch><foreignObject height=\"100%\" pointer-events=\"none\" requiredFeatures=\"http://www.w3.org/TR/SVG11/feature#Extensibility\" style=\"overflow: visible; text-align: left;\" width=\"100%\"><div style=\"display: flex; align-items: unsafe center; justify-content: unsafe center; width: 1px; height: 1px; padding-top: 407px; margin-left: 282px;\" xmlns=\"http://www.w3.org/1999/xhtml\"><div style=\"box-sizing: border-box; font-size: 0; text-align: center; \"><div style=\"display: inline-block; font-size: 11px; font-family: Helvetica; color: #0000CC; line-height: 1.2; pointer-events: all; white-space: nowrap; \"><font style=\"font-size: 24px\">ΔQ<sub>1</sub></font></div></div></div></foreignObject><text fill=\"#0000CC\" font-family=\"Helvetica\" font-size=\"11px\" text-anchor=\"middle\" x=\"282\" y=\"410\">ΔQ1</text></switch></g><path d=\"M 296.56 300.03 L 299.43 274.19 L 359.96 280.92 L 361.18 269.98 L 386.01 296.89 L 355.87 317.69 L 357.09 306.76 Z\" fill=\"#ffff00\" pointer-events=\"all\" stroke=\"#000000\" stroke-linejoin=\"round\" stroke-miterlimit=\"10\" stroke-width=\"2\"/><g transform=\"translate(-0.5 -0.5)\"><switch><foreignObject height=\"100%\" pointer-events=\"none\" requiredFeatures=\"http://www.w3.org/TR/SVG11/feature#Extensibility\" style=\"overflow: visible; text-align: left;\" width=\"100%\"><div style=\"display: flex; align-items: unsafe center; justify-content: unsafe center; width: 1px; height: 1px; padding-top: 290px; margin-left: 337px;\" xmlns=\"http://www.w3.org/1999/xhtml\"><div style=\"box-sizing: border-box; font-size: 0; text-align: center; \"><div style=\"display: inline-block; font-size: 18px; font-family: Georgia; color: #0000CC; line-height: 1.2; pointer-events: all; white-space: nowrap; \"><span style=\"color: rgb(0 , 0 , 0) ; font-size: 14px\">Δ</span><i style=\"color: rgb(0 , 0 , 0) ; font-size: 14px\">W</i><sub style=\"color: rgb(0 , 0 , 0)\"><font style=\"font-size: 12px\">BC</font></sub></div></div></div></foreignObject><text fill=\"#0000CC\" font-family=\"Georgia\" font-size=\"18px\" text-anchor=\"middle\" x=\"337\" y=\"295\">ΔWBC</text></switch></g><path d=\"M 242.08 228.61 L 213.22 203.88 L 250.75 160.1 L 242.39 152.94 L 286.35 147.76 L 287.95 191.99 L 279.6 184.83 Z\" fill=\"#ffff00\" pointer-events=\"all\" stroke=\"#000000\" stroke-linejoin=\"round\" stroke-miterlimit=\"10\" stroke-width=\"2\"/><g transform=\"translate(-0.5 -0.5)\"><switch><foreignObject height=\"100%\" pointer-events=\"none\" requiredFeatures=\"http://www.w3.org/TR/SVG11/feature#Extensibility\" style=\"overflow: visible; text-align: left;\" width=\"100%\"><div style=\"display: flex; align-items: unsafe center; justify-content: unsafe center; width: 1px; height: 1px; padding-top: 191px; margin-left: 246px;\" xmlns=\"http://www.w3.org/1999/xhtml\"><div style=\"box-sizing: border-box; font-size: 0; text-align: center; \"><div style=\"display: inline-block; font-size: 18px; font-family: Georgia; color: #0000CC; line-height: 1.2; pointer-events: all; white-space: nowrap; \"><font color=\"#000000\" style=\"font-size: 14px\">Δ<i>W</i><sub>AB</sub></font></div></div></div></foreignObject><text fill=\"#0000CC\" font-family=\"Georgia\" font-size=\"18px\" text-anchor=\"middle\" x=\"246\" y=\"197\">ΔWAB</text></switch></g><path d=\"M 227.99 413.61 L 186.33 399.44 L 194.83 374.46 L 184.89 371.08 L 223.84 357.47 L 246.43 392 L 236.49 388.62 Z\" fill=\"#ffff00\" pointer-events=\"all\" stroke=\"#000000\" stroke-linejoin=\"round\" stroke-miterlimit=\"10\"/><g transform=\"translate(-0.5 -0.5)\"><switch><foreignObject height=\"100%\" pointer-events=\"none\" requiredFeatures=\"http://www.w3.org/TR/SVG11/feature#Extensibility\" style=\"overflow: visible; text-align: left;\" width=\"100%\"><div style=\"display: flex; align-items: unsafe center; justify-content: unsafe center; width: 1px; height: 1px; padding-top: 387px; margin-left: 214px;\" xmlns=\"http://www.w3.org/1999/xhtml\"><div style=\"box-sizing: border-box; font-size: 0; text-align: center; \"><div style=\"display: inline-block; font-size: 18px; font-family: Georgia; color: #0000CC; line-height: 1.2; pointer-events: all; white-space: nowrap; \"><span style=\"color: rgb(0 , 0 , 0) ; font-size: 14px\">Δ</span><i style=\"color: rgb(0 , 0 , 0) ; font-size: 14px\">W</i><span style=\"color: rgb(0 , 0 , 0) ; font-size: 14px\"><sub>CD</sub></span></div></div></div></foreignObject><text fill=\"#0000CC\" font-family=\"Georgia\" font-size=\"18px\" text-anchor=\"middle\" x=\"214\" y=\"393\">ΔWCD</text></switch></g><path d=\"M 72.82 208.79 L 82.11 185.58 L 106.43 195.31 L 110.33 185.56 L 126.54 216.81 L 93.25 228.27 L 97.15 218.52 Z\" fill=\"#ffff00\" pointer-events=\"all\" stroke=\"#000000\" stroke-linejoin=\"round\" stroke-miterlimit=\"10\"/><g transform=\"translate(-0.5 -0.5)\"><switch><foreignObject height=\"100%\" pointer-events=\"none\" requiredFeatures=\"http://www.w3.org/TR/SVG11/feature#Extensibility\" style=\"overflow: visible; text-align: left;\" width=\"100%\"><div style=\"display: flex; align-items: unsafe center; justify-content: unsafe center; width: 1px; height: 1px; padding-top: 203px; margin-left: 95px;\" xmlns=\"http://www.w3.org/1999/xhtml\"><div style=\"box-sizing: border-box; font-size: 0; text-align: center; \"><div style=\"display: inline-block; font-size: 18px; font-family: Georgia; color: #0000CC; line-height: 1.2; pointer-events: all; white-space: nowrap; \"><span style=\"color: rgb(0 , 0 , 0) ; font-size: 14px\">Δ</span><i style=\"color: rgb(0 , 0 , 0) ; font-size: 14px\">W</i><span style=\"color: rgb(0 , 0 , 0) ; font-size: 14px\"><sub>DA</sub></span></div></div></div></foreignObject><text fill=\"#0000CC\" font-family=\"Georgia\" font-size=\"18px\" text-anchor=\"middle\" x=\"95\" y=\"209\">ΔWDA</text></switch></g><rect fill=\"none\" height=\"30\" pointer-events=\"all\" stroke=\"none\" width=\"30\" x=\"127\" y=\"187\"/><g transform=\"translate(-0.5 -0.5)\"><switch><foreignObject height=\"100%\" pointer-events=\"none\" requiredFeatures=\"http://www.w3.org/TR/SVG11/feature#Extensibility\" style=\"overflow: visible; text-align: left;\" width=\"100%\"><div style=\"display: flex; align-items: unsafe center; justify-content: unsafe center; width: 1px; height: 1px; padding-top: 202px; margin-left: 142px;\" xmlns=\"http://www.w3.org/1999/xhtml\"><div style=\"box-sizing: border-box; font-size: 0; text-align: center; \"><div style=\"display: inline-block; font-size: 18px; font-family: Georgia; color: #0000CC; line-height: 1.2; pointer-events: all; white-space: nowrap; \"><font color=\"#000000\">A</font></div></div></div></foreignObject><text fill=\"#0000CC\" font-family=\"Georgia\" font-size=\"18px\" text-anchor=\"middle\" x=\"142\" y=\"207\">A</text></switch></g><rect fill=\"none\" height=\"30\" pointer-events=\"all\" stroke=\"none\" width=\"30\" x=\"257\" y=\"247\"/><g transform=\"translate(-0.5 -0.5)\"><switch><foreignObject height=\"100%\" pointer-events=\"none\" requiredFeatures=\"http://www.w3.org/TR/SVG11/feature#Extensibility\" style=\"overflow: visible; text-align: left;\" width=\"100%\"><div style=\"display: flex; align-items: unsafe center; justify-content: unsafe center; width: 1px; height: 1px; padding-top: 262px; margin-left: 272px;\" xmlns=\"http://www.w3.org/1999/xhtml\"><div style=\"box-sizing: border-box; font-size: 0; text-align: center; \"><div style=\"display: inline-block; font-size: 18px; font-family: Georgia; color: #0000CC; line-height: 1.2; pointer-events: all; white-space: nowrap; \"><font color=\"#000000\">B</font></div></div></div></foreignObject><text fill=\"#0000CC\" font-family=\"Georgia\" font-size=\"18px\" text-anchor=\"middle\" x=\"272\" y=\"267\">B</text></switch></g><rect fill=\"none\" height=\"30\" pointer-events=\"all\" stroke=\"none\" width=\"30\" x=\"267\" y=\"337\"/><g transform=\"translate(-0.5 -0.5)\"><switch><foreignObject height=\"100%\" pointer-events=\"none\" requiredFeatures=\"http://www.w3.org/TR/SVG11/feature#Extensibility\" style=\"overflow: visible; text-align: left;\" width=\"100%\"><div style=\"display: flex; align-items: unsafe center; justify-content: unsafe center; width: 1px; height: 1px; padding-top: 352px; margin-left: 282px;\" xmlns=\"http://www.w3.org/1999/xhtml\"><div style=\"box-sizing: border-box; font-size: 0; text-align: center; \"><div style=\"display: inline-block; font-size: 18px; font-family: Georgia; color: #0000CC; line-height: 1.2; pointer-events: all; white-space: nowrap; \"><font color=\"#000000\">C</font></div></div></div></foreignObject><text fill=\"#0000CC\" font-family=\"Georgia\" font-size=\"18px\" text-anchor=\"middle\" x=\"282\" y=\"357\">C</text></switch></g><rect fill=\"none\" height=\"30\" pointer-events=\"all\" stroke=\"none\" width=\"30\" x=\"147\" y=\"297\"/><g transform=\"translate(-0.5 -0.5)\"><switch><foreignObject height=\"100%\" pointer-events=\"none\" requiredFeatures=\"http://www.w3.org/TR/SVG11/feature#Extensibility\" style=\"overflow: visible; text-align: left;\" width=\"100%\"><div style=\"display: flex; align-items: unsafe center; justify-content: unsafe center; width: 1px; height: 1px; padding-top: 312px; margin-left: 162px;\" xmlns=\"http://www.w3.org/1999/xhtml\"><div style=\"box-sizing: border-box; font-size: 0; text-align: center; \"><div style=\"display: inline-block; font-size: 18px; font-family: Georgia; color: #0000CC; line-height: 1.2; pointer-events: all; white-space: nowrap; \"><font color=\"#000000\">D</font></div></div></div></foreignObject><text fill=\"#0000CC\" font-family=\"Georgia\" font-size=\"18px\" text-anchor=\"middle\" x=\"162\" y=\"317\">D</text></switch></g></g><switch><g requiredFeatures=\"http://www.w3.org/TR/SVG11/feature#Extensibility\"/><a target=\"_blank\" transform=\"translate(0,-5)\" xlink:href=\"https://desk.draw.io/support/solutions/articles/16000042487\"><text font-size=\"10px\" text-anchor=\"middle\" x=\"50%\" y=\"100%\">Viewer does not support full SVG 1.1</text></a></switch></svg>"
          },
          "metadata": {
            "tags": []
          }
        }
      ]
    },
    {
      "cell_type": "markdown",
      "metadata": {
        "id": "b7WKEMnmvusj"
      },
      "source": [
        "$\\require{cancel}$\n",
        "##### (過程1) A $\\to$ B: 等温膨張\n",
        "\n",
        "$\\Delta T_2 =0 $ で熱力学第一法則をこの過程: A$\\to$B 適用すると\n",
        "\\begin{align*}\n",
        "\\Delta U_{\\rm AB} &= n \\left( \\dfrac{3}{2} R \\cancelto{0}{\\Delta T_2}\\right) = 0 = \\Delta Q _{\\rm AB}　 + \\left( - \\Delta W_{\\rm AB} \\right)&\\\\\n",
        "\\Delta U_{\\rm AB} & = 0 = \\Delta Q _{2}-\\Delta W_{\\rm AB}&\n",
        "\\end{align*}"
      ]
    },
    {
      "cell_type": "markdown",
      "metadata": {
        "id": "auYXcC2cmGF6"
      },
      "source": [
        "\\begin{align}\n",
        "\\Delta W_{\\rm AB} &= \\Delta Q _{2}\n",
        "= \\int_{\\rm A}^{\\rm B} P {\\rm d}V = \\int_{\\rm A}^{\\rm B} \\dfrac{nRT_{\\rm 2}}{V} {\\rm d}V \\\\[2mm]\n",
        "Q_{\\rm H} &=  W_1 = \\cancelto{1}{n} \\cdot R T_{\\rm H} \\ln \\dfrac{V_2}{V_1}\n",
        "\\end{align}"
      ]
    },
    {
      "cell_type": "markdown",
      "metadata": {
        "id": "P2AK6OuczNC4"
      },
      "source": [
        "##### (過程2) B $\\to$ C: 断熱膨張\n",
        "\n",
        "$\\Delta Q_{\\rm BC} =0 $ で熱力学第一法則をこの過程: B$\\to$C 適用すると\n",
        "\\begin{align*}\n",
        "\\Delta U_{\\rm BC} &= \\cancelto{0}{\\Delta Q_{\\rm BC}} -  \\Delta W_{\\rm BC}&\\\\[2mm]\n",
        "\\Delta U_{\\rm BC} &= - \\Delta W_{\\rm BC}&\n",
        "\\end{align*}"
      ]
    },
    {
      "cell_type": "markdown",
      "metadata": {
        "id": "YRmC3KGLnmvp"
      },
      "source": [
        "\\begin{align*}\n",
        "\\Delta W_{\\rm BC} &= - \\Delta U_{\\rm BC}= - \\left(U_{\\rm C} - U_{\\rm B}\\right)&\\\\[2mm]\n",
        "W_2 &=  U(T_{H}) - U(T_{L})\n",
        "\\end{align*}"
      ]
    },
    {
      "cell_type": "markdown",
      "metadata": {
        "id": "86Q3krxufS_v"
      },
      "source": [
        "##### (過程3) C $\\to$ D: 等温圧縮\n",
        "\n",
        "$\\Delta T_1 =0 $ で熱力学第一法則をこの過程: C$\\to$D 適用すると\n",
        "\\begin{align*}\n",
        "\\Delta U_{\\rm CD} &= n \\left( \\dfrac{3}{2} R \\cancelto{0}{\\Delta T_1}\\right) = 0 = \\left( -\\Delta Q_{\\rm CD} \\right)+ \\Delta W_{\\rm CD}&\\\\\n",
        "\\Delta U_{\\rm CD} & = 0 = -\\Delta Q _{\\rm 1} + \\Delta W_{\\rm CD}&\n",
        "\\end{align*}\n"
      ]
    },
    {
      "cell_type": "markdown",
      "metadata": {
        "id": "MYjdS2VBoLlF"
      },
      "source": [
        "\\begin{align*}\n",
        "\\Delta Q _{\\rm 1} &= \\Delta W_{\\rm CD}= {n} \\cdot R T_{\\rm L} \\ln \\dfrac{V_D}{V_C} < 0\\\\\n",
        "- Q_{\\rm L} &= W_3 = \\cancelto{1}{n} \\cdot R T_{\\rm L} \\ln \\dfrac{V_4}{V_3} \n",
        "\\end{align*}"
      ]
    },
    {
      "cell_type": "markdown",
      "metadata": {
        "id": "ZzNQLcl1g0nP"
      },
      "source": [
        "##### (過程4) D $\\to$ A: 断熱圧縮\n",
        "\n",
        "$\\Delta Q_{\\rm DA} =0 $ で熱力学第一法則をこの過程: D$\\to$A 適用すると\n",
        "\\begin{align*}\n",
        "\\Delta U_{\\rm DA} &= \\cancelto{0}{\\Delta Q_{\\rm DA}} +  \\Delta W_{\\rm DA}&\\\\\n",
        "\\Delta U_{\\rm DA} &= \\Delta W_{\\rm DA}&\n",
        "\\end{align*}"
      ]
    },
    {
      "cell_type": "markdown",
      "metadata": {
        "id": "RDqvLbI1pNF-"
      },
      "source": [
        "\\begin{align*}\n",
        "\\Delta W_{\\rm DA} &= - \\Delta U_{\\rm DA}= - \\left(U_{\\rm A} - U_{\\rm D}\\right)&\\\\[2mm]\n",
        "W_2 &=  U(T_{L}) - U(T_{H})\n",
        "\\end{align*}"
      ]
    },
    {
      "cell_type": "markdown",
      "metadata": {
        "id": "btzw1G6XpiOi"
      },
      "source": [
        "###### 断熱変化で成り立つ関係"
      ]
    },
    {
      "cell_type": "markdown",
      "metadata": {
        "id": "AZJcpzMkpmg3"
      },
      "source": [
        "\\begin{align}\n",
        "&\\begin{cases}\n",
        "T_{H}V_{2}^{\\gamma-1} &= T_{L}V_{3}^{\\gamma-1} \\quad : \\text{at B and C}\\\\[2mm]\n",
        "T_{H}V_{1}^{\\gamma-1} &= T_{L}V_{4}^{\\gamma-1} \\quad : \\text{at D and A}\n",
        "\\end{cases}\n",
        "\\end{align}\n",
        "上段の式と下段の式を辺々の商を取ると\n",
        "\\begin{align}\n",
        "\\dfrac{V_{2}^{\\gamma-1}}{V_{1}^{\\gamma-1}}\n",
        "&=\\dfrac{V_{3}^{\\gamma-1}}{V_{4}^{\\gamma-1}}\\\\[2mm]\n",
        "{}^{\\gamma-1}\\sqrt{\\left(\\dfrac{V_{2}}{V_{1}}\\right)^{\\gamma-1}}\n",
        "&=\n",
        "{}^{\\gamma-1}\\sqrt{\n",
        "\\left(\\dfrac{V_{3}}{V_{4}}\\right)^{\\gamma-1}}\\\\[2mm]\n",
        "\\dfrac{V_{2}}{V_{1}}\n",
        "&=\\dfrac{V_{3}}{V_{4}}\n",
        "\\end{align}\n"
      ]
    },
    {
      "cell_type": "markdown",
      "metadata": {
        "id": "fHyPhisArMKs"
      },
      "source": [
        "#### 1サイクルで行う仕事 $W$\n",
        "\n",
        "\\begin{align*}\n",
        "&\\begin{cases}\n",
        "W_1&= Q_{\\rm H}=R T_{\\rm H} \\ln \\dfrac{V_2}{V_1}\\\\\n",
        "W_2&= U(T_{H}) - U(T_{L})\\\\\n",
        "W_3&= -Q_{\\rm L}= RT_{\\rm L} \\ln \\dfrac{V_4}{V_3} = - RT_{\\rm L} \\ln \\dfrac{V_2}{V_1}  \\\\\n",
        "W_4&= U(T_{L}) - U(T_{H})\n",
        "\\end{cases}\\\\\n",
        "W \n",
        "&= \\sum_{1}^{4} W_i = W_1 + W_3 = Q_{\\rm H} + (- Q_{\\rm L})\\\\\n",
        "&= R\\left( T_{\\rm H}  - T_{\\rm L} \\right) \\ln \\dfrac{V_2}{V_1}\n",
        "\\end{align*}\n",
        "\n",
        "> カルノー機関が1サイクルで行う仕事は図の内部の面積に等しい"
      ]
    },
    {
      "cell_type": "code",
      "metadata": {
        "id": "8e5J906iZZCU",
        "cellView": "form",
        "colab": {
          "base_uri": "https://localhost:8080/",
          "height": 302
        },
        "outputId": "f08dec9d-108b-4563-e54c-602386799996"
      },
      "source": [
        "#@title カルノーサイクルの描画\n",
        "%matplotlib inline\n",
        "\n",
        "import matplotlib.pyplot as plt\n",
        "import numpy as np\n",
        "\n",
        "x = np.linspace(0.001, 20, 50)\n",
        "\n",
        "fig = plt.figure()\n",
        "ax = fig.add_subplot(111)\n",
        "ax.set_ylabel('P [Pa]')\n",
        "ax.set_xlabel('V [m$^3$]')\n",
        "\n",
        "plt.xlim([0,20])\n",
        "plt.ylim([0,13])\n",
        "\n",
        "#ax.set_aspect('equal', adjustable='box')\n",
        "\n",
        "plt.plot(x, 10/x, '--', color=\"b\")\n",
        "plt.plot(x, 2*10/x, '--', color=\"r\")\n",
        "\n",
        "plt.plot(x, 3*10/x**(1.67), '-', color=\"k\")\n",
        "plt.plot(x, 2*3*10/x**(1.67), '-', color=\"g\")"
      ],
      "execution_count": null,
      "outputs": [
        {
          "output_type": "execute_result",
          "data": {
            "text/plain": [
              "[<matplotlib.lines.Line2D at 0x7f022413a9e8>]"
            ]
          },
          "metadata": {
            "tags": []
          },
          "execution_count": 49
        },
        {
          "output_type": "display_data",
          "data": {
            "image/png": "[encoded data removed]",
            "text/plain": [
              "<Figure size 432x288 with 1 Axes>"
            ]
          },
          "metadata": {
            "tags": [],
            "needs_background": "light"
          }
        }
      ]
    },
    {
      "cell_type": "markdown",
      "metadata": {
        "id": "fnoscKs9tJYH"
      },
      "source": [
        "$\\require{cancel}$\n",
        "##### カルノー機関の熱効率 $\\eta$\n",
        "\n",
        "\\begin{align*}\n",
        "\\eta &= \\dfrac{Q_{\\rm H} -Q_{\\rm L}}{Q_{\\rm H}} \n",
        "= \\dfrac{\\cancel{R}\\left( T_{\\rm H}  - T_{\\rm L} \\right) \\bcancel{\\ln \\dfrac{V_2}{V_1}}}\n",
        "{\\cancel{R} T_{\\rm H} \\bcancel{\\ln \\dfrac{V_2}{V_1}}}\n",
        "= \\dfrac{T_{\\rm H} -T_{\\rm L}}{T_{\\rm H}} &\\\\[1mm]\n",
        "%\n",
        "&=1 - \\dfrac{Q_{\\rm L}}{Q_{\\rm H}} \n",
        "=1 - \\dfrac{T_{\\rm L}}{T_{\\rm H}} \\\\[3mm]\n",
        "\\dfrac{Q_{\\rm L}}{Q_{\\rm H}} \n",
        "&=\n",
        "\\dfrac{T_{\\rm L}}{T_{\\rm H}} \n",
        "\\end{align*}\n"
      ]
    },
    {
      "cell_type": "markdown",
      "source": [
        "#### クラウジウスの式"
      ],
      "metadata": {
        "id": "PoiZbLrtzuZk"
      }
    },
    {
      "cell_type": "markdown",
      "source": [
        "絶対温度($T_1>T_2>0$)を考慮し、サイクルを行う機関が受け取る熱と仕事を正として熱効率を立て直すと\n",
        "\n",
        "\\begin{align*}\n",
        "\\eta &= \\dfrac{-W}{Q_1} = \n",
        "\\dfrac{Q_1 + Q_2}{Q_2} \n",
        "= \\dfrac{T_{\\rm H} -T_{\\rm L}}{T_{\\rm H}} &\\\\[1mm]\n",
        "\\dfrac{Q_{\\rm 2}}{Q_{\\rm 1}} \n",
        "&=\n",
        "- \\dfrac{T_2}{T_1} \\\\[3mm]\n",
        "\\dfrac{Q_1}{T_1} + \\dfrac{Q_2}{T_2} &= 0\n",
        "\\end{align*}"
      ],
      "metadata": {
        "id": "_9BBSs5x0IAv"
      }
    }
  ]
}